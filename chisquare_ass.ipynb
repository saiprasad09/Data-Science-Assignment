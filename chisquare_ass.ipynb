{
  "nbformat": 4,
  "nbformat_minor": 0,
  "metadata": {
    "colab": {
      "provenance": []
    },
    "kernelspec": {
      "name": "python3",
      "display_name": "Python 3"
    },
    "language_info": {
      "name": "python"
    }
  },
  "cells": [
    {
      "cell_type": "markdown",
      "source": [
        "Mizzare Corporation has collected data on customer satisfaction levels for two types of smart home devices: Smart Thermostats and Smart Lights. They want to determine if there's a significant association between the type of device purchased and the customer's satisfaction level."
      ],
      "metadata": {
        "id": "deZhi1cosyDc"
      }
    },
    {
      "cell_type": "code",
      "execution_count": 1,
      "metadata": {
        "id": "a1PQk75LswWS"
      },
      "outputs": [],
      "source": [
        "import numpy as np\n",
        "import pandas as pd\n",
        "import scipy.stats as stats"
      ]
    },
    {
      "cell_type": "code",
      "source": [
        "## hypothesis statement\n",
        "##H0 = \"There is no association between the type of device purchased and the customer's satisfaction level.\"\n",
        "## H1 = \"There is an association between the type of device purchased and the customer's satisfaction level.\""
      ],
      "metadata": {
        "id": "sQj_lrArtjAu"
      },
      "execution_count": 2,
      "outputs": []
    },
    {
      "cell_type": "code",
      "source": [
        "observed = np.array([[50, 70],\n",
        "                     [80, 100],\n",
        "                     [60, 90],\n",
        "                     [30, 50],\n",
        "                     [20, 50]])"
      ],
      "metadata": {
        "id": "hFPe1B8FuKt2"
      },
      "execution_count": 3,
      "outputs": []
    },
    {
      "cell_type": "code",
      "source": [
        "row_totals = observed.sum(axis=1)\n",
        "col_totals = observed.sum(axis=0)\n",
        "grand_total = observed.sum()"
      ],
      "metadata": {
        "id": "c7a4QWkkvxRx"
      },
      "execution_count": 4,
      "outputs": []
    },
    {
      "cell_type": "code",
      "source": [
        "expected = np.outer(row_totals, col_totals) / grand_total"
      ],
      "metadata": {
        "id": "59KZ0thEj-9J"
      },
      "execution_count": 5,
      "outputs": []
    },
    {
      "cell_type": "code",
      "source": [
        "chi_square_statistic = ((observed - expected) ** 2 / expected).sum()"
      ],
      "metadata": {
        "id": "DtUFtoYLkEc7"
      },
      "execution_count": 6,
      "outputs": []
    },
    {
      "cell_type": "code",
      "source": [
        "df = (observed.shape[0] - 1) * (observed.shape[1] - 1)"
      ],
      "metadata": {
        "id": "PMJbCTBOkIzZ"
      },
      "execution_count": 7,
      "outputs": []
    },
    {
      "cell_type": "code",
      "source": [
        "alpha = 0.05\n",
        "critical_value = stats.chi2.ppf(1 - alpha, df)"
      ],
      "metadata": {
        "id": "-Qw4ApuFkM7G"
      },
      "execution_count": 8,
      "outputs": []
    },
    {
      "cell_type": "code",
      "source": [
        "p_value = 1 - stats.chi2.cdf(chi_square_statistic, df)"
      ],
      "metadata": {
        "id": "8h18-QbakOVv"
      },
      "execution_count": 9,
      "outputs": []
    },
    {
      "cell_type": "code",
      "source": [
        "if chi_square_statistic > critical_value:\n",
        "    conclusion = \"Reject the null hypothesis: There is a significant association between device type and customer satisfaction.\"\n",
        "else:\n",
        "    conclusion = \"Fail to reject the null hypothesis: There is no significant association between device type and customer satisfaction.\"\n"
      ],
      "metadata": {
        "id": "hq3utqDNliLu"
      },
      "execution_count": 10,
      "outputs": []
    },
    {
      "cell_type": "code",
      "source": [
        "print(f\"Chi-Square Statistic: {chi_square_statistic:.2f}\")\n",
        "print(f\"Critical Value: {critical_value:.2f}\")\n",
        "print(f\"P-value: {p_value:.4f}\")\n",
        "print(f\"Conclusion: {conclusion}\")"
      ],
      "metadata": {
        "colab": {
          "base_uri": "https://localhost:8080/"
        },
        "id": "2ebZEDMIlnKT",
        "outputId": "efdb99e4-8714-4e49-bb79-e798048b4554"
      },
      "execution_count": 11,
      "outputs": [
        {
          "output_type": "stream",
          "name": "stdout",
          "text": [
            "Chi-Square Statistic: 5.64\n",
            "Critical Value: 9.49\n",
            "P-value: 0.2278\n",
            "Conclusion: Fail to reject the null hypothesis: There is no significant association between device type and customer satisfaction.\n"
          ]
        }
      ]
    }
  ]
}