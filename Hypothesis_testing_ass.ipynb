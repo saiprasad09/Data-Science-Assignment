{
  "nbformat": 4,
  "nbformat_minor": 0,
  "metadata": {
    "colab": {
      "provenance": []
    },
    "kernelspec": {
      "name": "python3",
      "display_name": "Python 3"
    },
    "language_info": {
      "name": "python"
    }
  },
  "cells": [
    {
      "cell_type": "markdown",
      "source": [
        "## Bombay hospitality Ltd. operates a franchise model for producing exotic Norwegian dinners throughout New England. The operating cost for a franchise in a week (W) is given by the equation W = $1,000 + $5X, where X represents the number of units produced in a week. Recent feedback from restaurant owners suggests that this cost model may no longer be accurate, as their observed weekly operating costs are higher."
      ],
      "metadata": {
        "id": "GT3W0yX3imqz"
      }
    },
    {
      "cell_type": "code",
      "source": [
        "## hypothesis statement\n",
        "##H0 = mean weekly cost is equal to the theoretical cost\n",
        "##Ha = mean weekly cost is higher than the theoretical cost"
      ],
      "metadata": {
        "id": "3yGEZazTi5qH"
      },
      "execution_count": 1,
      "outputs": []
    },
    {
      "cell_type": "code",
      "source": [
        "import numpy as np\n",
        "import scipy.stats as stats"
      ],
      "metadata": {
        "id": "JlF1UkM8lgkb"
      },
      "execution_count": 6,
      "outputs": []
    },
    {
      "cell_type": "code",
      "source": [
        "x_bar = 3050\n",
        "pop_mean = 1000 + 5 *600\n",
        "std_dev =  5* 25\n",
        "n = 25"
      ],
      "metadata": {
        "id": "X-vSojSvkQmc"
      },
      "execution_count": 4,
      "outputs": []
    },
    {
      "cell_type": "code",
      "source": [
        "t = (x_bar - pop_mean)/(std_dev/np.sqrt(n))\n",
        "t"
      ],
      "metadata": {
        "colab": {
          "base_uri": "https://localhost:8080/"
        },
        "id": "clNWjrjqk8gQ",
        "outputId": "6e2c65d3-2702-4777-de13-e6bb3a16de5e"
      },
      "execution_count": 8,
      "outputs": [
        {
          "output_type": "execute_result",
          "data": {
            "text/plain": [
              "-38.0"
            ]
          },
          "metadata": {},
          "execution_count": 8
        }
      ]
    },
    {
      "cell_type": "code",
      "source": [
        "t_critical = stats.t.ppf(0.975,24)\n",
        "t_critical"
      ],
      "metadata": {
        "colab": {
          "base_uri": "https://localhost:8080/"
        },
        "id": "NWZwRB77l9Uj",
        "outputId": "f6bc2d15-5f43-4977-f340-02c72aeb9989"
      },
      "execution_count": 7,
      "outputs": [
        {
          "output_type": "execute_result",
          "data": {
            "text/plain": [
              "2.0638985616280205"
            ]
          },
          "metadata": {},
          "execution_count": 7
        }
      ]
    },
    {
      "cell_type": "markdown",
      "source": [
        "as t statistics lies outside the critical value so reject the null hypothesis therefore the weekly cost is higher than the theoretical cost.Therefore the claims of the restaurant owners are true the mean weekly cost is higher ."
      ],
      "metadata": {
        "id": "O76rHgopo6gK"
      }
    }
  ]
}