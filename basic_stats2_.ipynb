{
  "nbformat": 4,
  "nbformat_minor": 0,
  "metadata": {
    "colab": {
      "provenance": []
    },
    "kernelspec": {
      "name": "python3",
      "display_name": "Python 3"
    },
    "language_info": {
      "name": "python"
    }
  },
  "cells": [
    {
      "cell_type": "code",
      "execution_count": 1,
      "metadata": {
        "id": "iKI6B5Ixqllu"
      },
      "outputs": [],
      "source": [
        "import numpy as np\n",
        "import scipy.stats as stats"
      ]
    },
    {
      "cell_type": "code",
      "source": [
        "durability_data = np.array([1.13, 1.55, 1.43, 0.92, 1.25, 1.36, 1.32, 0.85, 1.07, 1.48, 1.20, 1.33, 1.18, 1.22, 1.29])"
      ],
      "metadata": {
        "id": "YwtdiQhPq3FZ"
      },
      "execution_count": 2,
      "outputs": []
    },
    {
      "cell_type": "code",
      "source": [
        "sample_mean = np.mean(durability_data)"
      ],
      "metadata": {
        "id": "XhNGKhWjrRnb"
      },
      "execution_count": 3,
      "outputs": []
    },
    {
      "cell_type": "code",
      "source": [
        "sample_std = np.std(durability_data)"
      ],
      "metadata": {
        "id": "cI0cVH4prW1S"
      },
      "execution_count": 5,
      "outputs": []
    },
    {
      "cell_type": "code",
      "source": [
        "n = len(durability_data)\n",
        "degrees_of_freedom = n - 1\n",
        "confidence_level = 0.99\n",
        "t_score = stats.t.ppf((1 + confidence_level) / 2, degrees_of_freedom)"
      ],
      "metadata": {
        "id": "cZSa23cQrfka"
      },
      "execution_count": 6,
      "outputs": []
    },
    {
      "cell_type": "code",
      "source": [
        "margin_of_error = t_score * (sample_std / np.sqrt(n))"
      ],
      "metadata": {
        "id": "DSZjAKv5ryze"
      },
      "execution_count": 7,
      "outputs": []
    },
    {
      "cell_type": "code",
      "source": [
        "confidence_interval = (sample_mean - margin_of_error, sample_mean + margin_of_error)"
      ],
      "metadata": {
        "id": "TV2fbtdPsvmx"
      },
      "execution_count": 9,
      "outputs": []
    },
    {
      "cell_type": "code",
      "source": [
        "print(\"Using Sample Standard Deviation:\")\n",
        "print(f\"Sample Mean: {sample_mean:.3f} million characters\")\n",
        "print(f\"Sample Standard Deviation: {sample_std:.3f} million characters\")\n",
        "print(f\"t-Score for 99% Confidence Level: {t_score:.3f}\")\n",
        "print(f\"Margin of Error: {margin_of_error:.3f} million characters\")\n",
        "print(f\"99% Confidence Interval: {confidence_interval}\")"
      ],
      "metadata": {
        "colab": {
          "base_uri": "https://localhost:8080/"
        },
        "id": "1tndqC7esojt",
        "outputId": "5da1582d-541e-4442-e9b1-a864661b8ebf"
      },
      "execution_count": 10,
      "outputs": [
        {
          "output_type": "stream",
          "name": "stdout",
          "text": [
            "Using Sample Standard Deviation:\n",
            "Sample Mean: 1.239 million characters\n",
            "Sample Standard Deviation: 0.187 million characters\n",
            "t-Score for 99% Confidence Level: 2.977\n",
            "Margin of Error: 0.143 million characters\n",
            "99% Confidence Interval: (1.095231668626123, 1.3821016647072102)\n"
          ]
        }
      ]
    },
    {
      "cell_type": "code",
      "source": [
        "population_std = 0.2"
      ],
      "metadata": {
        "id": "dwnkmlJNs7ok"
      },
      "execution_count": 11,
      "outputs": []
    },
    {
      "cell_type": "code",
      "source": [
        "z_score = stats.norm.ppf((1 + confidence_level) / 2)"
      ],
      "metadata": {
        "id": "ZRA-T6zotDx7"
      },
      "execution_count": 12,
      "outputs": []
    },
    {
      "cell_type": "code",
      "source": [
        "margin_of_error_population = z_score * (population_std / np.sqrt(n))"
      ],
      "metadata": {
        "id": "ZW2LHH0ktHZn"
      },
      "execution_count": 13,
      "outputs": []
    },
    {
      "cell_type": "code",
      "source": [
        "confidence_interval_population = (sample_mean - margin_of_error_population,\n",
        "                                   sample_mean + margin_of_error_population)"
      ],
      "metadata": {
        "id": "IqFpty5WtNzP"
      },
      "execution_count": 14,
      "outputs": []
    },
    {
      "cell_type": "code",
      "source": [
        "print(\"\\nUsing Known Population Standard Deviation:\")\n",
        "print(f\"Population Standard Deviation: {population_std:.3f} million characters\")\n",
        "print(f\"z-Score for 99% Confidence Level: {z_score:.3f}\")\n",
        "print(f\"Margin of Error: {margin_of_error_population:.3f} million characters\")\n",
        "print(f\"99% Confidence Interval: {confidence_interval_population}\")"
      ],
      "metadata": {
        "colab": {
          "base_uri": "https://localhost:8080/"
        },
        "id": "X0PlaLfWtPO6",
        "outputId": "30f749c7-3a19-435e-a20b-970080ce84f8"
      },
      "execution_count": 15,
      "outputs": [
        {
          "output_type": "stream",
          "name": "stdout",
          "text": [
            "\n",
            "Using Known Population Standard Deviation:\n",
            "Population Standard Deviation: 0.200 million characters\n",
            "z-Score for 99% Confidence Level: 2.576\n",
            "Margin of Error: 0.133 million characters\n",
            "99% Confidence Interval: (1.1056514133957607, 1.3716819199375725)\n"
          ]
        }
      ]
    }
  ]
}