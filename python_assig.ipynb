{
  "cells": [
    {
      "cell_type": "markdown",
      "metadata": {
        "id": "D5KUMsFZqcRQ"
      },
      "source": [
        "# **Python program that checks whether a given number is prime or not.**"
      ]
    },
    {
      "cell_type": "code",
      "execution_count": null,
      "metadata": {
        "colab": {
          "base_uri": "https://localhost:8080/"
        },
        "id": "J00vYcalM358",
        "outputId": "05641a5a-c0a8-4925-aac1-9f439b1f64be"
      },
      "outputs": [
        {
          "name": "stdout",
          "output_type": "stream",
          "text": [
            "5 is a prime number\n"
          ]
        }
      ],
      "source": [
        "x = 5\n",
        "if x > 1:\n",
        "    for i in range(2, x):\n",
        "        if (x % i) == 0:\n",
        "            print(x, \"is not a prime number\")\n",
        "            break\n",
        "    else:\n",
        "        print(x, \"is a prime number\")"
      ]
    },
    {
      "cell_type": "markdown",
      "metadata": {
        "id": "sqha7AjhqULI"
      },
      "source": [
        "#**Python program that generates two random numbers and asks the user to enter the product of these numbers.The program should then check if the user's answer is correct and display an appropriate message.**"
      ]
    },
    {
      "cell_type": "code",
      "execution_count": null,
      "metadata": {
        "colab": {
          "background_save": true,
          "base_uri": "https://localhost:8080/"
        },
        "id": "M5_50TkEPdcS",
        "outputId": "bb1c2443-a4be-4d16-e1bd-109c28df1e9b"
      },
      "outputs": [
        {
          "name": "stdout",
          "output_type": "stream",
          "text": [
            "9 4\n"
          ]
        }
      ],
      "source": [
        "import math\n",
        "import random\n",
        "x=random.randint(1,10)\n",
        "y=random.randint(1,10)\n",
        "print(x,y)\n",
        "i = int(input(\"enter the product of these numbers\"))\n",
        "if i==x*y:\n",
        "    print(\"correct\")\n",
        "else:\n",
        "    print(\"incorrect\")"
      ]
    },
    {
      "cell_type": "markdown",
      "metadata": {
        "id": "c1j0z2XwqHqH"
      },
      "source": [
        "# **Create a Python script that prints the squares of all even or odd numbers within the range of 100 to 200.Choose either even or odd numbers and document your choice in the code.**"
      ]
    },
    {
      "cell_type": "code",
      "execution_count": 6,
      "metadata": {
        "colab": {
          "base_uri": "https://localhost:8080/"
        },
        "id": "k4jVAJeykITQ",
        "outputId": "ce9eb282-4ad8-4294-fda7-79c5cf218060"
      },
      "outputs": [
        {
          "name": "stdout",
          "output_type": "stream",
          "text": [
            "Enter even or oddodd\n",
            "[10201, 10609, 11025, 11449, 11881, 12321, 12769, 13225, 13689, 14161, 14641, 15129, 15625, 16129, 16641, 17161, 17689, 18225, 18769, 19321, 19881, 20449, 21025, 21609, 22201, 22801, 23409, 24025, 24649, 25281, 25921, 26569, 27225, 27889, 28561, 29241, 29929, 30625, 31329, 32041, 32761, 33489, 34225, 34969, 35721, 36481, 37249, 38025, 38809, 39601]\n"
          ]
        }
      ],
      "source": [
        "even = []\n",
        "odd = []\n",
        "for i in range(100,200):\n",
        "  if i % 2==0:\n",
        "    even.append(i**2)\n",
        "  else:\n",
        "    odd.append(i**2)\n",
        "\n",
        "choice =input(\"Enter even or odd\")\n",
        "if choice == \"even\":\n",
        "  print(even)\n",
        "else:\n",
        "  print(odd)\n",
        "### choice = odd\n"
      ]
    },
    {
      "cell_type": "markdown",
      "metadata": {
        "id": "ddULANoAl50f"
      },
      "source": [
        "# **write a program to count the number of words in a given text.**"
      ]
    },
    {
      "cell_type": "code",
      "execution_count": 15,
      "metadata": {
        "colab": {
          "base_uri": "https://localhost:8080/"
        },
        "id": "_hlwabzxmL0P",
        "outputId": "d4cf4519-ac89-4d2d-b8e8-1cb4d5d4114b"
      },
      "outputs": [
        {
          "name": "stdout",
          "output_type": "stream",
          "text": [
            "Enter textthis is me this is she\n",
            "['this', 'is', 'me', 'this', 'is', 'she']\n",
            "this 2\n",
            "is 2\n",
            "me 1\n",
            "this 2\n",
            "is 2\n",
            "she 1\n"
          ]
        }
      ],
      "source": [
        "text =input(\"Enter text\")\n",
        "words = text.split()\n",
        "print(words)\n",
        "for i in words:\n",
        "  count = words.count(i)\n",
        "  print(i,count)\n",
        "\n"
      ]
    },
    {
      "cell_type": "markdown",
      "metadata": {
        "id": "JG4zso8Jp0fg"
      },
      "source": [
        "# **Write a Python function called is_palindrome that takes a string as input and returns True if the string is a palindrome, and False otherwise. A palindrome is a word, phrase, number, or other sequence of characters that reads the same forward and backward, ignoring spaces, punctuation, and capitalization.**"
      ]
    },
    {
      "cell_type": "code",
      "execution_count": 19,
      "metadata": {
        "colab": {
          "base_uri": "https://localhost:8080/"
        },
        "id": "T_ptNmGWqEEi",
        "outputId": "dc14959f-c870-4e22-fc5c-323b20886fe2"
      },
      "outputs": [
        {
          "name": "stdout",
          "output_type": "stream",
          "text": [
            "Enter stringlevel\n",
            "True\n"
          ]
        }
      ],
      "source": [
        "def ispalindrome(x):\n",
        "  x=x.lower()\n",
        "  if x==x[::-1]:\n",
        "    return True\n",
        "  else:\n",
        "    return False\n",
        "x=input(\"Enter string\")\n",
        "print(ispalindrome(x))"
      ]
    }
  ],
  "metadata": {
    "colab": {
      "provenance": []
    },
    "kernelspec": {
      "display_name": "Python 3",
      "name": "python3"
    },
    "language_info": {
      "name": "python"
    }
  },
  "nbformat": 4,
  "nbformat_minor": 0
}
