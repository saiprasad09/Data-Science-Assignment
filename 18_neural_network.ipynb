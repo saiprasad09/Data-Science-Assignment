{
  "nbformat": 4,
  "nbformat_minor": 0,
  "metadata": {
    "colab": {
      "provenance": []
    },
    "kernelspec": {
      "name": "python3",
      "display_name": "Python 3"
    },
    "language_info": {
      "name": "python"
    }
  },
  "cells": [
    {
      "cell_type": "markdown",
      "source": [
        "# Data exploration and preprocessing"
      ],
      "metadata": {
        "id": "vT6Nscl2IfGC"
      }
    },
    {
      "cell_type": "code",
      "source": [
        "import pandas as pd\n",
        "import numpy as np\n",
        "from tensorflow.keras.models import Sequential\n",
        "from tensorflow.keras.layers import Dense\n",
        "import tensorflow as tf\n",
        "import numpy as np\n",
        "from sklearn.model_selection import ParameterGrid\n",
        "\n",
        "\n",
        "# Load the dataset\n",
        "df = pd.read_csv('/content/Alphabets_data.csv')\n",
        "df.head()"
      ],
      "metadata": {
        "colab": {
          "base_uri": "https://localhost:8080/",
          "height": 226
        },
        "id": "I1lH6bIcIslV",
        "outputId": "eb4de4d9-6b10-49fd-bda7-f7659ba693ba"
      },
      "execution_count": null,
      "outputs": [
        {
          "output_type": "execute_result",
          "data": {
            "text/plain": [
              "  letter  xbox  ybox  width  height  onpix  xbar  ybar  x2bar  y2bar  xybar  \\\n",
              "0      T     2     8      3       5      1     8    13      0      6      6   \n",
              "1      I     5    12      3       7      2    10     5      5      4     13   \n",
              "2      D     4    11      6       8      6    10     6      2      6     10   \n",
              "3      N     7    11      6       6      3     5     9      4      6      4   \n",
              "4      G     2     1      3       1      1     8     6      6      6      6   \n",
              "\n",
              "   x2ybar  xy2bar  xedge  xedgey  yedge  yedgex  \n",
              "0      10       8      0       8      0       8  \n",
              "1       3       9      2       8      4      10  \n",
              "2       3       7      3       7      3       9  \n",
              "3       4      10      6      10      2       8  \n",
              "4       5       9      1       7      5      10  "
            ],
            "text/html": [
              "\n",
              "  <div id=\"df-b2562b43-cea5-485e-839a-b736b56cf8cd\" class=\"colab-df-container\">\n",
              "    <div>\n",
              "<style scoped>\n",
              "    .dataframe tbody tr th:only-of-type {\n",
              "        vertical-align: middle;\n",
              "    }\n",
              "\n",
              "    .dataframe tbody tr th {\n",
              "        vertical-align: top;\n",
              "    }\n",
              "\n",
              "    .dataframe thead th {\n",
              "        text-align: right;\n",
              "    }\n",
              "</style>\n",
              "<table border=\"1\" class=\"dataframe\">\n",
              "  <thead>\n",
              "    <tr style=\"text-align: right;\">\n",
              "      <th></th>\n",
              "      <th>letter</th>\n",
              "      <th>xbox</th>\n",
              "      <th>ybox</th>\n",
              "      <th>width</th>\n",
              "      <th>height</th>\n",
              "      <th>onpix</th>\n",
              "      <th>xbar</th>\n",
              "      <th>ybar</th>\n",
              "      <th>x2bar</th>\n",
              "      <th>y2bar</th>\n",
              "      <th>xybar</th>\n",
              "      <th>x2ybar</th>\n",
              "      <th>xy2bar</th>\n",
              "      <th>xedge</th>\n",
              "      <th>xedgey</th>\n",
              "      <th>yedge</th>\n",
              "      <th>yedgex</th>\n",
              "    </tr>\n",
              "  </thead>\n",
              "  <tbody>\n",
              "    <tr>\n",
              "      <th>0</th>\n",
              "      <td>T</td>\n",
              "      <td>2</td>\n",
              "      <td>8</td>\n",
              "      <td>3</td>\n",
              "      <td>5</td>\n",
              "      <td>1</td>\n",
              "      <td>8</td>\n",
              "      <td>13</td>\n",
              "      <td>0</td>\n",
              "      <td>6</td>\n",
              "      <td>6</td>\n",
              "      <td>10</td>\n",
              "      <td>8</td>\n",
              "      <td>0</td>\n",
              "      <td>8</td>\n",
              "      <td>0</td>\n",
              "      <td>8</td>\n",
              "    </tr>\n",
              "    <tr>\n",
              "      <th>1</th>\n",
              "      <td>I</td>\n",
              "      <td>5</td>\n",
              "      <td>12</td>\n",
              "      <td>3</td>\n",
              "      <td>7</td>\n",
              "      <td>2</td>\n",
              "      <td>10</td>\n",
              "      <td>5</td>\n",
              "      <td>5</td>\n",
              "      <td>4</td>\n",
              "      <td>13</td>\n",
              "      <td>3</td>\n",
              "      <td>9</td>\n",
              "      <td>2</td>\n",
              "      <td>8</td>\n",
              "      <td>4</td>\n",
              "      <td>10</td>\n",
              "    </tr>\n",
              "    <tr>\n",
              "      <th>2</th>\n",
              "      <td>D</td>\n",
              "      <td>4</td>\n",
              "      <td>11</td>\n",
              "      <td>6</td>\n",
              "      <td>8</td>\n",
              "      <td>6</td>\n",
              "      <td>10</td>\n",
              "      <td>6</td>\n",
              "      <td>2</td>\n",
              "      <td>6</td>\n",
              "      <td>10</td>\n",
              "      <td>3</td>\n",
              "      <td>7</td>\n",
              "      <td>3</td>\n",
              "      <td>7</td>\n",
              "      <td>3</td>\n",
              "      <td>9</td>\n",
              "    </tr>\n",
              "    <tr>\n",
              "      <th>3</th>\n",
              "      <td>N</td>\n",
              "      <td>7</td>\n",
              "      <td>11</td>\n",
              "      <td>6</td>\n",
              "      <td>6</td>\n",
              "      <td>3</td>\n",
              "      <td>5</td>\n",
              "      <td>9</td>\n",
              "      <td>4</td>\n",
              "      <td>6</td>\n",
              "      <td>4</td>\n",
              "      <td>4</td>\n",
              "      <td>10</td>\n",
              "      <td>6</td>\n",
              "      <td>10</td>\n",
              "      <td>2</td>\n",
              "      <td>8</td>\n",
              "    </tr>\n",
              "    <tr>\n",
              "      <th>4</th>\n",
              "      <td>G</td>\n",
              "      <td>2</td>\n",
              "      <td>1</td>\n",
              "      <td>3</td>\n",
              "      <td>1</td>\n",
              "      <td>1</td>\n",
              "      <td>8</td>\n",
              "      <td>6</td>\n",
              "      <td>6</td>\n",
              "      <td>6</td>\n",
              "      <td>6</td>\n",
              "      <td>5</td>\n",
              "      <td>9</td>\n",
              "      <td>1</td>\n",
              "      <td>7</td>\n",
              "      <td>5</td>\n",
              "      <td>10</td>\n",
              "    </tr>\n",
              "  </tbody>\n",
              "</table>\n",
              "</div>\n",
              "    <div class=\"colab-df-buttons\">\n",
              "\n",
              "  <div class=\"colab-df-container\">\n",
              "    <button class=\"colab-df-convert\" onclick=\"convertToInteractive('df-b2562b43-cea5-485e-839a-b736b56cf8cd')\"\n",
              "            title=\"Convert this dataframe to an interactive table.\"\n",
              "            style=\"display:none;\">\n",
              "\n",
              "  <svg xmlns=\"http://www.w3.org/2000/svg\" height=\"24px\" viewBox=\"0 -960 960 960\">\n",
              "    <path d=\"M120-120v-720h720v720H120Zm60-500h600v-160H180v160Zm220 220h160v-160H400v160Zm0 220h160v-160H400v160ZM180-400h160v-160H180v160Zm440 0h160v-160H620v160ZM180-180h160v-160H180v160Zm440 0h160v-160H620v160Z\"/>\n",
              "  </svg>\n",
              "    </button>\n",
              "\n",
              "  <style>\n",
              "    .colab-df-container {\n",
              "      display:flex;\n",
              "      gap: 12px;\n",
              "    }\n",
              "\n",
              "    .colab-df-convert {\n",
              "      background-color: #E8F0FE;\n",
              "      border: none;\n",
              "      border-radius: 50%;\n",
              "      cursor: pointer;\n",
              "      display: none;\n",
              "      fill: #1967D2;\n",
              "      height: 32px;\n",
              "      padding: 0 0 0 0;\n",
              "      width: 32px;\n",
              "    }\n",
              "\n",
              "    .colab-df-convert:hover {\n",
              "      background-color: #E2EBFA;\n",
              "      box-shadow: 0px 1px 2px rgba(60, 64, 67, 0.3), 0px 1px 3px 1px rgba(60, 64, 67, 0.15);\n",
              "      fill: #174EA6;\n",
              "    }\n",
              "\n",
              "    .colab-df-buttons div {\n",
              "      margin-bottom: 4px;\n",
              "    }\n",
              "\n",
              "    [theme=dark] .colab-df-convert {\n",
              "      background-color: #3B4455;\n",
              "      fill: #D2E3FC;\n",
              "    }\n",
              "\n",
              "    [theme=dark] .colab-df-convert:hover {\n",
              "      background-color: #434B5C;\n",
              "      box-shadow: 0px 1px 3px 1px rgba(0, 0, 0, 0.15);\n",
              "      filter: drop-shadow(0px 1px 2px rgba(0, 0, 0, 0.3));\n",
              "      fill: #FFFFFF;\n",
              "    }\n",
              "  </style>\n",
              "\n",
              "    <script>\n",
              "      const buttonEl =\n",
              "        document.querySelector('#df-b2562b43-cea5-485e-839a-b736b56cf8cd button.colab-df-convert');\n",
              "      buttonEl.style.display =\n",
              "        google.colab.kernel.accessAllowed ? 'block' : 'none';\n",
              "\n",
              "      async function convertToInteractive(key) {\n",
              "        const element = document.querySelector('#df-b2562b43-cea5-485e-839a-b736b56cf8cd');\n",
              "        const dataTable =\n",
              "          await google.colab.kernel.invokeFunction('convertToInteractive',\n",
              "                                                    [key], {});\n",
              "        if (!dataTable) return;\n",
              "\n",
              "        const docLinkHtml = 'Like what you see? Visit the ' +\n",
              "          '<a target=\"_blank\" href=https://colab.research.google.com/notebooks/data_table.ipynb>data table notebook</a>'\n",
              "          + ' to learn more about interactive tables.';\n",
              "        element.innerHTML = '';\n",
              "        dataTable['output_type'] = 'display_data';\n",
              "        await google.colab.output.renderOutput(dataTable, element);\n",
              "        const docLink = document.createElement('div');\n",
              "        docLink.innerHTML = docLinkHtml;\n",
              "        element.appendChild(docLink);\n",
              "      }\n",
              "    </script>\n",
              "  </div>\n",
              "\n",
              "\n",
              "<div id=\"df-13713844-c0ed-401c-bc41-1830dd6ddaa3\">\n",
              "  <button class=\"colab-df-quickchart\" onclick=\"quickchart('df-13713844-c0ed-401c-bc41-1830dd6ddaa3')\"\n",
              "            title=\"Suggest charts\"\n",
              "            style=\"display:none;\">\n",
              "\n",
              "<svg xmlns=\"http://www.w3.org/2000/svg\" height=\"24px\"viewBox=\"0 0 24 24\"\n",
              "     width=\"24px\">\n",
              "    <g>\n",
              "        <path d=\"M19 3H5c-1.1 0-2 .9-2 2v14c0 1.1.9 2 2 2h14c1.1 0 2-.9 2-2V5c0-1.1-.9-2-2-2zM9 17H7v-7h2v7zm4 0h-2V7h2v10zm4 0h-2v-4h2v4z\"/>\n",
              "    </g>\n",
              "</svg>\n",
              "  </button>\n",
              "\n",
              "<style>\n",
              "  .colab-df-quickchart {\n",
              "      --bg-color: #E8F0FE;\n",
              "      --fill-color: #1967D2;\n",
              "      --hover-bg-color: #E2EBFA;\n",
              "      --hover-fill-color: #174EA6;\n",
              "      --disabled-fill-color: #AAA;\n",
              "      --disabled-bg-color: #DDD;\n",
              "  }\n",
              "\n",
              "  [theme=dark] .colab-df-quickchart {\n",
              "      --bg-color: #3B4455;\n",
              "      --fill-color: #D2E3FC;\n",
              "      --hover-bg-color: #434B5C;\n",
              "      --hover-fill-color: #FFFFFF;\n",
              "      --disabled-bg-color: #3B4455;\n",
              "      --disabled-fill-color: #666;\n",
              "  }\n",
              "\n",
              "  .colab-df-quickchart {\n",
              "    background-color: var(--bg-color);\n",
              "    border: none;\n",
              "    border-radius: 50%;\n",
              "    cursor: pointer;\n",
              "    display: none;\n",
              "    fill: var(--fill-color);\n",
              "    height: 32px;\n",
              "    padding: 0;\n",
              "    width: 32px;\n",
              "  }\n",
              "\n",
              "  .colab-df-quickchart:hover {\n",
              "    background-color: var(--hover-bg-color);\n",
              "    box-shadow: 0 1px 2px rgba(60, 64, 67, 0.3), 0 1px 3px 1px rgba(60, 64, 67, 0.15);\n",
              "    fill: var(--button-hover-fill-color);\n",
              "  }\n",
              "\n",
              "  .colab-df-quickchart-complete:disabled,\n",
              "  .colab-df-quickchart-complete:disabled:hover {\n",
              "    background-color: var(--disabled-bg-color);\n",
              "    fill: var(--disabled-fill-color);\n",
              "    box-shadow: none;\n",
              "  }\n",
              "\n",
              "  .colab-df-spinner {\n",
              "    border: 2px solid var(--fill-color);\n",
              "    border-color: transparent;\n",
              "    border-bottom-color: var(--fill-color);\n",
              "    animation:\n",
              "      spin 1s steps(1) infinite;\n",
              "  }\n",
              "\n",
              "  @keyframes spin {\n",
              "    0% {\n",
              "      border-color: transparent;\n",
              "      border-bottom-color: var(--fill-color);\n",
              "      border-left-color: var(--fill-color);\n",
              "    }\n",
              "    20% {\n",
              "      border-color: transparent;\n",
              "      border-left-color: var(--fill-color);\n",
              "      border-top-color: var(--fill-color);\n",
              "    }\n",
              "    30% {\n",
              "      border-color: transparent;\n",
              "      border-left-color: var(--fill-color);\n",
              "      border-top-color: var(--fill-color);\n",
              "      border-right-color: var(--fill-color);\n",
              "    }\n",
              "    40% {\n",
              "      border-color: transparent;\n",
              "      border-right-color: var(--fill-color);\n",
              "      border-top-color: var(--fill-color);\n",
              "    }\n",
              "    60% {\n",
              "      border-color: transparent;\n",
              "      border-right-color: var(--fill-color);\n",
              "    }\n",
              "    80% {\n",
              "      border-color: transparent;\n",
              "      border-right-color: var(--fill-color);\n",
              "      border-bottom-color: var(--fill-color);\n",
              "    }\n",
              "    90% {\n",
              "      border-color: transparent;\n",
              "      border-bottom-color: var(--fill-color);\n",
              "    }\n",
              "  }\n",
              "</style>\n",
              "\n",
              "  <script>\n",
              "    async function quickchart(key) {\n",
              "      const quickchartButtonEl =\n",
              "        document.querySelector('#' + key + ' button');\n",
              "      quickchartButtonEl.disabled = true;  // To prevent multiple clicks.\n",
              "      quickchartButtonEl.classList.add('colab-df-spinner');\n",
              "      try {\n",
              "        const charts = await google.colab.kernel.invokeFunction(\n",
              "            'suggestCharts', [key], {});\n",
              "      } catch (error) {\n",
              "        console.error('Error during call to suggestCharts:', error);\n",
              "      }\n",
              "      quickchartButtonEl.classList.remove('colab-df-spinner');\n",
              "      quickchartButtonEl.classList.add('colab-df-quickchart-complete');\n",
              "    }\n",
              "    (() => {\n",
              "      let quickchartButtonEl =\n",
              "        document.querySelector('#df-13713844-c0ed-401c-bc41-1830dd6ddaa3 button');\n",
              "      quickchartButtonEl.style.display =\n",
              "        google.colab.kernel.accessAllowed ? 'block' : 'none';\n",
              "    })();\n",
              "  </script>\n",
              "</div>\n",
              "\n",
              "    </div>\n",
              "  </div>\n"
            ],
            "application/vnd.google.colaboratory.intrinsic+json": {
              "type": "dataframe",
              "variable_name": "df",
              "summary": "{\n  \"name\": \"df\",\n  \"rows\": 20000,\n  \"fields\": [\n    {\n      \"column\": \"letter\",\n      \"properties\": {\n        \"dtype\": \"category\",\n        \"num_unique_values\": 26,\n        \"samples\": [\n          \"J\",\n          \"W\",\n          \"T\"\n        ],\n        \"semantic_type\": \"\",\n        \"description\": \"\"\n      }\n    },\n    {\n      \"column\": \"xbox\",\n      \"properties\": {\n        \"dtype\": \"number\",\n        \"std\": 1,\n        \"min\": 0,\n        \"max\": 15,\n        \"num_unique_values\": 16,\n        \"samples\": [\n          2,\n          5,\n          11\n        ],\n        \"semantic_type\": \"\",\n        \"description\": \"\"\n      }\n    },\n    {\n      \"column\": \"ybox\",\n      \"properties\": {\n        \"dtype\": \"number\",\n        \"std\": 3,\n        \"min\": 0,\n        \"max\": 15,\n        \"num_unique_values\": 16,\n        \"samples\": [\n          8,\n          12,\n          15\n        ],\n        \"semantic_type\": \"\",\n        \"description\": \"\"\n      }\n    },\n    {\n      \"column\": \"width\",\n      \"properties\": {\n        \"dtype\": \"number\",\n        \"std\": 2,\n        \"min\": 0,\n        \"max\": 15,\n        \"num_unique_values\": 16,\n        \"samples\": [\n          3,\n          6,\n          8\n        ],\n        \"semantic_type\": \"\",\n        \"description\": \"\"\n      }\n    },\n    {\n      \"column\": \"height\",\n      \"properties\": {\n        \"dtype\": \"number\",\n        \"std\": 2,\n        \"min\": 0,\n        \"max\": 15,\n        \"num_unique_values\": 16,\n        \"samples\": [\n          5,\n          7,\n          4\n        ],\n        \"semantic_type\": \"\",\n        \"description\": \"\"\n      }\n    },\n    {\n      \"column\": \"onpix\",\n      \"properties\": {\n        \"dtype\": \"number\",\n        \"std\": 2,\n        \"min\": 0,\n        \"max\": 15,\n        \"num_unique_values\": 16,\n        \"samples\": [\n          1,\n          2,\n          7\n        ],\n        \"semantic_type\": \"\",\n        \"description\": \"\"\n      }\n    },\n    {\n      \"column\": \"xbar\",\n      \"properties\": {\n        \"dtype\": \"number\",\n        \"std\": 2,\n        \"min\": 0,\n        \"max\": 15,\n        \"num_unique_values\": 16,\n        \"samples\": [\n          8,\n          10,\n          7\n        ],\n        \"semantic_type\": \"\",\n        \"description\": \"\"\n      }\n    },\n    {\n      \"column\": \"ybar\",\n      \"properties\": {\n        \"dtype\": \"number\",\n        \"std\": 2,\n        \"min\": 0,\n        \"max\": 15,\n        \"num_unique_values\": 16,\n        \"samples\": [\n          13,\n          5,\n          7\n        ],\n        \"semantic_type\": \"\",\n        \"description\": \"\"\n      }\n    },\n    {\n      \"column\": \"x2bar\",\n      \"properties\": {\n        \"dtype\": \"number\",\n        \"std\": 2,\n        \"min\": 0,\n        \"max\": 15,\n        \"num_unique_values\": 16,\n        \"samples\": [\n          0,\n          5,\n          3\n        ],\n        \"semantic_type\": \"\",\n        \"description\": \"\"\n      }\n    },\n    {\n      \"column\": \"y2bar\",\n      \"properties\": {\n        \"dtype\": \"number\",\n        \"std\": 2,\n        \"min\": 0,\n        \"max\": 15,\n        \"num_unique_values\": 16,\n        \"samples\": [\n          6,\n          4,\n          3\n        ],\n        \"semantic_type\": \"\",\n        \"description\": \"\"\n      }\n    },\n    {\n      \"column\": \"xybar\",\n      \"properties\": {\n        \"dtype\": \"number\",\n        \"std\": 2,\n        \"min\": 0,\n        \"max\": 15,\n        \"num_unique_values\": 16,\n        \"samples\": [\n          6,\n          13,\n          7\n        ],\n        \"semantic_type\": \"\",\n        \"description\": \"\"\n      }\n    },\n    {\n      \"column\": \"x2ybar\",\n      \"properties\": {\n        \"dtype\": \"number\",\n        \"std\": 2,\n        \"min\": 0,\n        \"max\": 15,\n        \"num_unique_values\": 16,\n        \"samples\": [\n          10,\n          3,\n          2\n        ],\n        \"semantic_type\": \"\",\n        \"description\": \"\"\n      }\n    },\n    {\n      \"column\": \"xy2bar\",\n      \"properties\": {\n        \"dtype\": \"number\",\n        \"std\": 2,\n        \"min\": 0,\n        \"max\": 15,\n        \"num_unique_values\": 16,\n        \"samples\": [\n          8,\n          9,\n          11\n        ],\n        \"semantic_type\": \"\",\n        \"description\": \"\"\n      }\n    },\n    {\n      \"column\": \"xedge\",\n      \"properties\": {\n        \"dtype\": \"number\",\n        \"std\": 2,\n        \"min\": 0,\n        \"max\": 15,\n        \"num_unique_values\": 16,\n        \"samples\": [\n          0,\n          2,\n          8\n        ],\n        \"semantic_type\": \"\",\n        \"description\": \"\"\n      }\n    },\n    {\n      \"column\": \"xedgey\",\n      \"properties\": {\n        \"dtype\": \"number\",\n        \"std\": 1,\n        \"min\": 0,\n        \"max\": 15,\n        \"num_unique_values\": 16,\n        \"samples\": [\n          8,\n          7,\n          9\n        ],\n        \"semantic_type\": \"\",\n        \"description\": \"\"\n      }\n    },\n    {\n      \"column\": \"yedge\",\n      \"properties\": {\n        \"dtype\": \"number\",\n        \"std\": 2,\n        \"min\": 0,\n        \"max\": 15,\n        \"num_unique_values\": 16,\n        \"samples\": [\n          0,\n          4,\n          9\n        ],\n        \"semantic_type\": \"\",\n        \"description\": \"\"\n      }\n    },\n    {\n      \"column\": \"yedgex\",\n      \"properties\": {\n        \"dtype\": \"number\",\n        \"std\": 1,\n        \"min\": 0,\n        \"max\": 15,\n        \"num_unique_values\": 16,\n        \"samples\": [\n          8,\n          10,\n          11\n        ],\n        \"semantic_type\": \"\",\n        \"description\": \"\"\n      }\n    }\n  ]\n}"
            }
          },
          "metadata": {},
          "execution_count": 2
        }
      ]
    },
    {
      "cell_type": "code",
      "source": [
        "df.info()"
      ],
      "metadata": {
        "colab": {
          "base_uri": "https://localhost:8080/"
        },
        "id": "dBkYbUdvJkGu",
        "outputId": "068fe9d4-d2d8-455b-9d97-239208194db2"
      },
      "execution_count": null,
      "outputs": [
        {
          "output_type": "stream",
          "name": "stdout",
          "text": [
            "<class 'pandas.core.frame.DataFrame'>\n",
            "RangeIndex: 20000 entries, 0 to 19999\n",
            "Data columns (total 17 columns):\n",
            " #   Column  Non-Null Count  Dtype \n",
            "---  ------  --------------  ----- \n",
            " 0   letter  20000 non-null  object\n",
            " 1   xbox    20000 non-null  int64 \n",
            " 2   ybox    20000 non-null  int64 \n",
            " 3   width   20000 non-null  int64 \n",
            " 4   height  20000 non-null  int64 \n",
            " 5   onpix   20000 non-null  int64 \n",
            " 6   xbar    20000 non-null  int64 \n",
            " 7   ybar    20000 non-null  int64 \n",
            " 8   x2bar   20000 non-null  int64 \n",
            " 9   y2bar   20000 non-null  int64 \n",
            " 10  xybar   20000 non-null  int64 \n",
            " 11  x2ybar  20000 non-null  int64 \n",
            " 12  xy2bar  20000 non-null  int64 \n",
            " 13  xedge   20000 non-null  int64 \n",
            " 14  xedgey  20000 non-null  int64 \n",
            " 15  yedge   20000 non-null  int64 \n",
            " 16  yedgex  20000 non-null  int64 \n",
            "dtypes: int64(16), object(1)\n",
            "memory usage: 2.6+ MB\n"
          ]
        }
      ]
    },
    {
      "cell_type": "code",
      "source": [
        "# Summarize key features\n",
        "print(\"Number of samples:\", len(df))\n",
        "print(\"Number of features:\", len(df.columns) - 1)  # Excluding the target column\n",
        "print(\"Number of classes:\", len(df['letter'].unique()))"
      ],
      "metadata": {
        "colab": {
          "base_uri": "https://localhost:8080/"
        },
        "id": "aPz6KjqbJq27",
        "outputId": "f95dcb13-1258-4e25-d2e9-7257ab528408"
      },
      "execution_count": null,
      "outputs": [
        {
          "output_type": "stream",
          "name": "stdout",
          "text": [
            "Number of samples: 20000\n",
            "Number of features: 16\n",
            "Number of classes: 26\n"
          ]
        }
      ]
    },
    {
      "cell_type": "code",
      "source": [
        "# Split features and target variable\n",
        "X = df.iloc[:,1:16]\n",
        "y = df['letter']"
      ],
      "metadata": {
        "id": "G-Rzg1x4KEfU"
      },
      "execution_count": null,
      "outputs": []
    },
    {
      "cell_type": "code",
      "source": [
        "### Normalization\n",
        "from sklearn.preprocessing import StandardScaler\n",
        "# Scale the features\n",
        "scaler = StandardScaler()\n",
        "X = scaler.fit_transform(X)"
      ],
      "metadata": {
        "id": "j61XPMG0KHVd"
      },
      "execution_count": null,
      "outputs": []
    },
    {
      "cell_type": "code",
      "source": [
        "### label encoding\n",
        "from sklearn.preprocessing import LabelEncoder\n",
        "label_encoder = LabelEncoder()\n",
        "y = label_encoder.fit_transform(y)"
      ],
      "metadata": {
        "id": "JbwtQu3EKMyz"
      },
      "execution_count": null,
      "outputs": []
    },
    {
      "cell_type": "code",
      "source": [
        "#### Split into training and testing\n",
        "from sklearn.model_selection import train_test_split\n",
        "X_train, X_test, y_train, y_test = train_test_split(X,y, test_size=0.20, random_state=41)\n",
        "X_train.shape, X_test.shape, y_train.shape, y_test.shape"
      ],
      "metadata": {
        "colab": {
          "base_uri": "https://localhost:8080/"
        },
        "id": "oig0jyT4KTgP",
        "outputId": "f85d84a9-1ca9-4e00-d49e-166da70fe6cb"
      },
      "execution_count": null,
      "outputs": [
        {
          "output_type": "execute_result",
          "data": {
            "text/plain": [
              "((16000, 15), (4000, 15), (16000,), (4000,))"
            ]
          },
          "metadata": {},
          "execution_count": 10
        }
      ]
    },
    {
      "cell_type": "markdown",
      "source": [
        "# model implementation"
      ],
      "metadata": {
        "id": "TcDQXRAWKVTv"
      }
    },
    {
      "cell_type": "code",
      "source": [
        "# Initialize the ANN\n",
        "model = Sequential()"
      ],
      "metadata": {
        "id": "xBg_Xt6IKZC0"
      },
      "execution_count": null,
      "outputs": []
    },
    {
      "cell_type": "code",
      "source": [
        " #Add the input layer and the first hidden layer\n",
        "model.add(Dense(units=16, activation='relu', input_dim=X_train.shape[1]))"
      ],
      "metadata": {
        "colab": {
          "base_uri": "https://localhost:8080/"
        },
        "id": "KgHXsw-aKeci",
        "outputId": "2c10f4ff-5725-434d-ed3f-058205418601"
      },
      "execution_count": null,
      "outputs": [
        {
          "output_type": "stream",
          "name": "stderr",
          "text": [
            "/usr/local/lib/python3.10/dist-packages/keras/src/layers/core/dense.py:87: UserWarning: Do not pass an `input_shape`/`input_dim` argument to a layer. When using Sequential models, prefer using an `Input(shape)` object as the first layer in the model instead.\n",
            "  super().__init__(activity_regularizer=activity_regularizer, **kwargs)\n"
          ]
        }
      ]
    },
    {
      "cell_type": "code",
      "source": [
        "# Add the second hidden layer (optional)\n",
        "model.add(Dense(units=8, activation='relu'))"
      ],
      "metadata": {
        "id": "M_-LA_21KjaS"
      },
      "execution_count": null,
      "outputs": []
    },
    {
      "cell_type": "code",
      "source": [
        "# Add the output layer\n",
        "model.add(Dense(units=len(np.unique(y)), activation='softmax'))"
      ],
      "metadata": {
        "id": "cPQQMY5sKpWT"
      },
      "execution_count": null,
      "outputs": []
    },
    {
      "cell_type": "code",
      "source": [
        "# Compile the ANN\n",
        "model.compile(optimizer='adam', loss='sparse_categorical_crossentropy', metrics=['accuracy'])"
      ],
      "metadata": {
        "id": "8sYarkp5KtEQ"
      },
      "execution_count": null,
      "outputs": []
    },
    {
      "cell_type": "code",
      "source": [
        "# Summary of the model\n",
        "model.summary()"
      ],
      "metadata": {
        "colab": {
          "base_uri": "https://localhost:8080/",
          "height": 238
        },
        "id": "Ldut8HKrKvp7",
        "outputId": "bffd0255-fe19-4bc2-961c-ba8ff43b7c20"
      },
      "execution_count": null,
      "outputs": [
        {
          "output_type": "display_data",
          "data": {
            "text/plain": [
              "\u001b[1mModel: \"sequential\"\u001b[0m\n"
            ],
            "text/html": [
              "<pre style=\"white-space:pre;overflow-x:auto;line-height:normal;font-family:Menlo,'DejaVu Sans Mono',consolas,'Courier New',monospace\"><span style=\"font-weight: bold\">Model: \"sequential\"</span>\n",
              "</pre>\n"
            ]
          },
          "metadata": {}
        },
        {
          "output_type": "display_data",
          "data": {
            "text/plain": [
              "┏━━━━━━━━━━━━━━━━━━━━━━━━━━━━━━━━━━━━━━┳━━━━━━━━━━━━━━━━━━━━━━━━━━━━━┳━━━━━━━━━━━━━━━━━┓\n",
              "┃\u001b[1m \u001b[0m\u001b[1mLayer (type)                        \u001b[0m\u001b[1m \u001b[0m┃\u001b[1m \u001b[0m\u001b[1mOutput Shape               \u001b[0m\u001b[1m \u001b[0m┃\u001b[1m \u001b[0m\u001b[1m        Param #\u001b[0m\u001b[1m \u001b[0m┃\n",
              "┡━━━━━━━━━━━━━━━━━━━━━━━━━━━━━━━━━━━━━━╇━━━━━━━━━━━━━━━━━━━━━━━━━━━━━╇━━━━━━━━━━━━━━━━━┩\n",
              "│ dense (\u001b[38;5;33mDense\u001b[0m)                        │ (\u001b[38;5;45mNone\u001b[0m, \u001b[38;5;34m16\u001b[0m)                  │             \u001b[38;5;34m256\u001b[0m │\n",
              "├──────────────────────────────────────┼─────────────────────────────┼─────────────────┤\n",
              "│ dense_1 (\u001b[38;5;33mDense\u001b[0m)                      │ (\u001b[38;5;45mNone\u001b[0m, \u001b[38;5;34m8\u001b[0m)                   │             \u001b[38;5;34m136\u001b[0m │\n",
              "├──────────────────────────────────────┼─────────────────────────────┼─────────────────┤\n",
              "│ dense_2 (\u001b[38;5;33mDense\u001b[0m)                      │ (\u001b[38;5;45mNone\u001b[0m, \u001b[38;5;34m26\u001b[0m)                  │             \u001b[38;5;34m234\u001b[0m │\n",
              "└──────────────────────────────────────┴─────────────────────────────┴─────────────────┘\n"
            ],
            "text/html": [
              "<pre style=\"white-space:pre;overflow-x:auto;line-height:normal;font-family:Menlo,'DejaVu Sans Mono',consolas,'Courier New',monospace\">┏━━━━━━━━━━━━━━━━━━━━━━━━━━━━━━━━━━━━━━┳━━━━━━━━━━━━━━━━━━━━━━━━━━━━━┳━━━━━━━━━━━━━━━━━┓\n",
              "┃<span style=\"font-weight: bold\"> Layer (type)                         </span>┃<span style=\"font-weight: bold\"> Output Shape                </span>┃<span style=\"font-weight: bold\">         Param # </span>┃\n",
              "┡━━━━━━━━━━━━━━━━━━━━━━━━━━━━━━━━━━━━━━╇━━━━━━━━━━━━━━━━━━━━━━━━━━━━━╇━━━━━━━━━━━━━━━━━┩\n",
              "│ dense (<span style=\"color: #0087ff; text-decoration-color: #0087ff\">Dense</span>)                        │ (<span style=\"color: #00d7ff; text-decoration-color: #00d7ff\">None</span>, <span style=\"color: #00af00; text-decoration-color: #00af00\">16</span>)                  │             <span style=\"color: #00af00; text-decoration-color: #00af00\">256</span> │\n",
              "├──────────────────────────────────────┼─────────────────────────────┼─────────────────┤\n",
              "│ dense_1 (<span style=\"color: #0087ff; text-decoration-color: #0087ff\">Dense</span>)                      │ (<span style=\"color: #00d7ff; text-decoration-color: #00d7ff\">None</span>, <span style=\"color: #00af00; text-decoration-color: #00af00\">8</span>)                   │             <span style=\"color: #00af00; text-decoration-color: #00af00\">136</span> │\n",
              "├──────────────────────────────────────┼─────────────────────────────┼─────────────────┤\n",
              "│ dense_2 (<span style=\"color: #0087ff; text-decoration-color: #0087ff\">Dense</span>)                      │ (<span style=\"color: #00d7ff; text-decoration-color: #00d7ff\">None</span>, <span style=\"color: #00af00; text-decoration-color: #00af00\">26</span>)                  │             <span style=\"color: #00af00; text-decoration-color: #00af00\">234</span> │\n",
              "└──────────────────────────────────────┴─────────────────────────────┴─────────────────┘\n",
              "</pre>\n"
            ]
          },
          "metadata": {}
        },
        {
          "output_type": "display_data",
          "data": {
            "text/plain": [
              "\u001b[1m Total params: \u001b[0m\u001b[38;5;34m626\u001b[0m (2.45 KB)\n"
            ],
            "text/html": [
              "<pre style=\"white-space:pre;overflow-x:auto;line-height:normal;font-family:Menlo,'DejaVu Sans Mono',consolas,'Courier New',monospace\"><span style=\"font-weight: bold\"> Total params: </span><span style=\"color: #00af00; text-decoration-color: #00af00\">626</span> (2.45 KB)\n",
              "</pre>\n"
            ]
          },
          "metadata": {}
        },
        {
          "output_type": "display_data",
          "data": {
            "text/plain": [
              "\u001b[1m Trainable params: \u001b[0m\u001b[38;5;34m626\u001b[0m (2.45 KB)\n"
            ],
            "text/html": [
              "<pre style=\"white-space:pre;overflow-x:auto;line-height:normal;font-family:Menlo,'DejaVu Sans Mono',consolas,'Courier New',monospace\"><span style=\"font-weight: bold\"> Trainable params: </span><span style=\"color: #00af00; text-decoration-color: #00af00\">626</span> (2.45 KB)\n",
              "</pre>\n"
            ]
          },
          "metadata": {}
        },
        {
          "output_type": "display_data",
          "data": {
            "text/plain": [
              "\u001b[1m Non-trainable params: \u001b[0m\u001b[38;5;34m0\u001b[0m (0.00 B)\n"
            ],
            "text/html": [
              "<pre style=\"white-space:pre;overflow-x:auto;line-height:normal;font-family:Menlo,'DejaVu Sans Mono',consolas,'Courier New',monospace\"><span style=\"font-weight: bold\"> Non-trainable params: </span><span style=\"color: #00af00; text-decoration-color: #00af00\">0</span> (0.00 B)\n",
              "</pre>\n"
            ]
          },
          "metadata": {}
        }
      ]
    },
    {
      "cell_type": "code",
      "source": [
        "# Train the model on the training set\n",
        "history = model.fit(X_train, y_train, epochs=50, batch_size=10, validation_split=0.1)"
      ],
      "metadata": {
        "colab": {
          "base_uri": "https://localhost:8080/"
        },
        "id": "TzIATj_4K2QZ",
        "outputId": "8f57b72f-a52e-47fc-c53d-8fe8d0a9f3a3"
      },
      "execution_count": null,
      "outputs": [
        {
          "output_type": "stream",
          "name": "stdout",
          "text": [
            "Epoch 1/50\n",
            "\u001b[1m1440/1440\u001b[0m \u001b[32m━━━━━━━━━━━━━━━━━━━━\u001b[0m\u001b[37m\u001b[0m \u001b[1m4s\u001b[0m 2ms/step - accuracy: 0.1712 - loss: 2.8185 - val_accuracy: 0.5331 - val_loss: 1.5709\n",
            "Epoch 2/50\n",
            "\u001b[1m1440/1440\u001b[0m \u001b[32m━━━━━━━━━━━━━━━━━━━━\u001b[0m\u001b[37m\u001b[0m \u001b[1m2s\u001b[0m 2ms/step - accuracy: 0.5612 - loss: 1.4369 - val_accuracy: 0.6388 - val_loss: 1.2567\n",
            "Epoch 3/50\n",
            "\u001b[1m1440/1440\u001b[0m \u001b[32m━━━━━━━━━━━━━━━━━━━━\u001b[0m\u001b[37m\u001b[0m \u001b[1m3s\u001b[0m 2ms/step - accuracy: 0.6423 - loss: 1.1758 - val_accuracy: 0.6712 - val_loss: 1.1441\n",
            "Epoch 4/50\n",
            "\u001b[1m1440/1440\u001b[0m \u001b[32m━━━━━━━━━━━━━━━━━━━━\u001b[0m\u001b[37m\u001b[0m \u001b[1m4s\u001b[0m 3ms/step - accuracy: 0.6666 - loss: 1.0989 - val_accuracy: 0.6875 - val_loss: 1.0671\n",
            "Epoch 5/50\n",
            "\u001b[1m1440/1440\u001b[0m \u001b[32m━━━━━━━━━━━━━━━━━━━━\u001b[0m\u001b[37m\u001b[0m \u001b[1m4s\u001b[0m 2ms/step - accuracy: 0.6897 - loss: 1.0289 - val_accuracy: 0.7006 - val_loss: 1.0237\n",
            "Epoch 6/50\n",
            "\u001b[1m1440/1440\u001b[0m \u001b[32m━━━━━━━━━━━━━━━━━━━━\u001b[0m\u001b[37m\u001b[0m \u001b[1m2s\u001b[0m 2ms/step - accuracy: 0.7061 - loss: 0.9735 - val_accuracy: 0.7275 - val_loss: 0.9666\n",
            "Epoch 7/50\n",
            "\u001b[1m1440/1440\u001b[0m \u001b[32m━━━━━━━━━━━━━━━━━━━━\u001b[0m\u001b[37m\u001b[0m \u001b[1m3s\u001b[0m 2ms/step - accuracy: 0.7242 - loss: 0.9342 - val_accuracy: 0.7406 - val_loss: 0.9347\n",
            "Epoch 8/50\n",
            "\u001b[1m1440/1440\u001b[0m \u001b[32m━━━━━━━━━━━━━━━━━━━━\u001b[0m\u001b[37m\u001b[0m \u001b[1m5s\u001b[0m 1ms/step - accuracy: 0.7303 - loss: 0.8900 - val_accuracy: 0.7375 - val_loss: 0.9053\n",
            "Epoch 9/50\n",
            "\u001b[1m1440/1440\u001b[0m \u001b[32m━━━━━━━━━━━━━━━━━━━━\u001b[0m\u001b[37m\u001b[0m \u001b[1m3s\u001b[0m 2ms/step - accuracy: 0.7356 - loss: 0.8856 - val_accuracy: 0.7513 - val_loss: 0.8799\n",
            "Epoch 10/50\n",
            "\u001b[1m1440/1440\u001b[0m \u001b[32m━━━━━━━━━━━━━━━━━━━━\u001b[0m\u001b[37m\u001b[0m \u001b[1m2s\u001b[0m 2ms/step - accuracy: 0.7486 - loss: 0.8432 - val_accuracy: 0.7581 - val_loss: 0.8506\n",
            "Epoch 11/50\n",
            "\u001b[1m1440/1440\u001b[0m \u001b[32m━━━━━━━━━━━━━━━━━━━━\u001b[0m\u001b[37m\u001b[0m \u001b[1m3s\u001b[0m 2ms/step - accuracy: 0.7522 - loss: 0.8261 - val_accuracy: 0.7588 - val_loss: 0.8337\n",
            "Epoch 12/50\n",
            "\u001b[1m1440/1440\u001b[0m \u001b[32m━━━━━━━━━━━━━━━━━━━━\u001b[0m\u001b[37m\u001b[0m \u001b[1m4s\u001b[0m 2ms/step - accuracy: 0.7556 - loss: 0.7992 - val_accuracy: 0.7575 - val_loss: 0.8135\n",
            "Epoch 13/50\n",
            "\u001b[1m1440/1440\u001b[0m \u001b[32m━━━━━━━━━━━━━━━━━━━━\u001b[0m\u001b[37m\u001b[0m \u001b[1m4s\u001b[0m 2ms/step - accuracy: 0.7649 - loss: 0.7762 - val_accuracy: 0.7700 - val_loss: 0.7999\n",
            "Epoch 14/50\n",
            "\u001b[1m1440/1440\u001b[0m \u001b[32m━━━━━━━━━━━━━━━━━━━━\u001b[0m\u001b[37m\u001b[0m \u001b[1m3s\u001b[0m 2ms/step - accuracy: 0.7655 - loss: 0.7828 - val_accuracy: 0.7656 - val_loss: 0.7899\n",
            "Epoch 15/50\n",
            "\u001b[1m1440/1440\u001b[0m \u001b[32m━━━━━━━━━━━━━━━━━━━━\u001b[0m\u001b[37m\u001b[0m \u001b[1m3s\u001b[0m 2ms/step - accuracy: 0.7772 - loss: 0.7501 - val_accuracy: 0.7675 - val_loss: 0.7829\n",
            "Epoch 16/50\n",
            "\u001b[1m1440/1440\u001b[0m \u001b[32m━━━━━━━━━━━━━━━━━━━━\u001b[0m\u001b[37m\u001b[0m \u001b[1m6s\u001b[0m 4ms/step - accuracy: 0.7740 - loss: 0.7546 - val_accuracy: 0.7706 - val_loss: 0.7704\n",
            "Epoch 17/50\n",
            "\u001b[1m1440/1440\u001b[0m \u001b[32m━━━━━━━━━━━━━━━━━━━━\u001b[0m\u001b[37m\u001b[0m \u001b[1m7s\u001b[0m 2ms/step - accuracy: 0.7787 - loss: 0.7232 - val_accuracy: 0.7656 - val_loss: 0.7628\n",
            "Epoch 18/50\n",
            "\u001b[1m1440/1440\u001b[0m \u001b[32m━━━━━━━━━━━━━━━━━━━━\u001b[0m\u001b[37m\u001b[0m \u001b[1m3s\u001b[0m 2ms/step - accuracy: 0.7768 - loss: 0.7193 - val_accuracy: 0.7769 - val_loss: 0.7518\n",
            "Epoch 19/50\n",
            "\u001b[1m1440/1440\u001b[0m \u001b[32m━━━━━━━━━━━━━━━━━━━━\u001b[0m\u001b[37m\u001b[0m \u001b[1m7s\u001b[0m 4ms/step - accuracy: 0.7873 - loss: 0.7003 - val_accuracy: 0.7744 - val_loss: 0.7508\n",
            "Epoch 20/50\n",
            "\u001b[1m1440/1440\u001b[0m \u001b[32m━━━━━━━━━━━━━━━━━━━━\u001b[0m\u001b[37m\u001b[0m \u001b[1m6s\u001b[0m 2ms/step - accuracy: 0.7877 - loss: 0.6989 - val_accuracy: 0.7700 - val_loss: 0.7538\n",
            "Epoch 21/50\n",
            "\u001b[1m1440/1440\u001b[0m \u001b[32m━━━━━━━━━━━━━━━━━━━━\u001b[0m\u001b[37m\u001b[0m \u001b[1m4s\u001b[0m 2ms/step - accuracy: 0.7871 - loss: 0.6948 - val_accuracy: 0.7794 - val_loss: 0.7428\n",
            "Epoch 22/50\n",
            "\u001b[1m1440/1440\u001b[0m \u001b[32m━━━━━━━━━━━━━━━━━━━━\u001b[0m\u001b[37m\u001b[0m \u001b[1m5s\u001b[0m 3ms/step - accuracy: 0.7882 - loss: 0.6997 - val_accuracy: 0.7912 - val_loss: 0.7328\n",
            "Epoch 23/50\n",
            "\u001b[1m1440/1440\u001b[0m \u001b[32m━━━━━━━━━━━━━━━━━━━━\u001b[0m\u001b[37m\u001b[0m \u001b[1m4s\u001b[0m 3ms/step - accuracy: 0.7900 - loss: 0.6936 - val_accuracy: 0.7788 - val_loss: 0.7348\n",
            "Epoch 24/50\n",
            "\u001b[1m1440/1440\u001b[0m \u001b[32m━━━━━━━━━━━━━━━━━━━━\u001b[0m\u001b[37m\u001b[0m \u001b[1m5s\u001b[0m 3ms/step - accuracy: 0.7916 - loss: 0.6792 - val_accuracy: 0.7850 - val_loss: 0.7328\n",
            "Epoch 25/50\n",
            "\u001b[1m1440/1440\u001b[0m \u001b[32m━━━━━━━━━━━━━━━━━━━━\u001b[0m\u001b[37m\u001b[0m \u001b[1m3s\u001b[0m 2ms/step - accuracy: 0.7972 - loss: 0.6692 - val_accuracy: 0.7875 - val_loss: 0.7243\n",
            "Epoch 26/50\n",
            "\u001b[1m1440/1440\u001b[0m \u001b[32m━━━━━━━━━━━━━━━━━━━━\u001b[0m\u001b[37m\u001b[0m \u001b[1m2s\u001b[0m 2ms/step - accuracy: 0.7982 - loss: 0.6636 - val_accuracy: 0.7875 - val_loss: 0.7258\n",
            "Epoch 27/50\n",
            "\u001b[1m1440/1440\u001b[0m \u001b[32m━━━━━━━━━━━━━━━━━━━━\u001b[0m\u001b[37m\u001b[0m \u001b[1m2s\u001b[0m 2ms/step - accuracy: 0.8046 - loss: 0.6455 - val_accuracy: 0.7881 - val_loss: 0.7145\n",
            "Epoch 28/50\n",
            "\u001b[1m1440/1440\u001b[0m \u001b[32m━━━━━━━━━━━━━━━━━━━━\u001b[0m\u001b[37m\u001b[0m \u001b[1m3s\u001b[0m 2ms/step - accuracy: 0.7957 - loss: 0.6614 - val_accuracy: 0.7869 - val_loss: 0.7230\n",
            "Epoch 29/50\n",
            "\u001b[1m1440/1440\u001b[0m \u001b[32m━━━━━━━━━━━━━━━━━━━━\u001b[0m\u001b[37m\u001b[0m \u001b[1m7s\u001b[0m 3ms/step - accuracy: 0.8007 - loss: 0.6612 - val_accuracy: 0.7925 - val_loss: 0.7123\n",
            "Epoch 30/50\n",
            "\u001b[1m1440/1440\u001b[0m \u001b[32m━━━━━━━━━━━━━━━━━━━━\u001b[0m\u001b[37m\u001b[0m \u001b[1m3s\u001b[0m 2ms/step - accuracy: 0.8001 - loss: 0.6607 - val_accuracy: 0.7919 - val_loss: 0.7133\n",
            "Epoch 31/50\n",
            "\u001b[1m1440/1440\u001b[0m \u001b[32m━━━━━━━━━━━━━━━━━━━━\u001b[0m\u001b[37m\u001b[0m \u001b[1m3s\u001b[0m 2ms/step - accuracy: 0.7981 - loss: 0.6443 - val_accuracy: 0.7862 - val_loss: 0.7135\n",
            "Epoch 32/50\n",
            "\u001b[1m1440/1440\u001b[0m \u001b[32m━━━━━━━━━━━━━━━━━━━━\u001b[0m\u001b[37m\u001b[0m \u001b[1m5s\u001b[0m 2ms/step - accuracy: 0.8010 - loss: 0.6338 - val_accuracy: 0.7944 - val_loss: 0.7100\n",
            "Epoch 33/50\n",
            "\u001b[1m1440/1440\u001b[0m \u001b[32m━━━━━━━━━━━━━━━━━━━━\u001b[0m\u001b[37m\u001b[0m \u001b[1m3s\u001b[0m 2ms/step - accuracy: 0.8085 - loss: 0.6256 - val_accuracy: 0.7919 - val_loss: 0.7113\n",
            "Epoch 34/50\n",
            "\u001b[1m1440/1440\u001b[0m \u001b[32m━━━━━━━━━━━━━━━━━━━━\u001b[0m\u001b[37m\u001b[0m \u001b[1m11s\u001b[0m 6ms/step - accuracy: 0.8036 - loss: 0.6352 - val_accuracy: 0.7919 - val_loss: 0.7013\n",
            "Epoch 35/50\n",
            "\u001b[1m1440/1440\u001b[0m \u001b[32m━━━━━━━━━━━━━━━━━━━━\u001b[0m\u001b[37m\u001b[0m \u001b[1m4s\u001b[0m 2ms/step - accuracy: 0.8020 - loss: 0.6396 - val_accuracy: 0.8000 - val_loss: 0.6929\n",
            "Epoch 36/50\n",
            "\u001b[1m1440/1440\u001b[0m \u001b[32m━━━━━━━━━━━━━━━━━━━━\u001b[0m\u001b[37m\u001b[0m \u001b[1m3s\u001b[0m 2ms/step - accuracy: 0.8053 - loss: 0.6375 - val_accuracy: 0.7956 - val_loss: 0.7010\n",
            "Epoch 37/50\n",
            "\u001b[1m1440/1440\u001b[0m \u001b[32m━━━━━━━━━━━━━━━━━━━━\u001b[0m\u001b[37m\u001b[0m \u001b[1m3s\u001b[0m 2ms/step - accuracy: 0.8112 - loss: 0.6245 - val_accuracy: 0.7994 - val_loss: 0.6975\n",
            "Epoch 38/50\n",
            "\u001b[1m1440/1440\u001b[0m \u001b[32m━━━━━━━━━━━━━━━━━━━━\u001b[0m\u001b[37m\u001b[0m \u001b[1m4s\u001b[0m 2ms/step - accuracy: 0.8062 - loss: 0.6248 - val_accuracy: 0.7944 - val_loss: 0.6903\n",
            "Epoch 39/50\n",
            "\u001b[1m1440/1440\u001b[0m \u001b[32m━━━━━━━━━━━━━━━━━━━━\u001b[0m\u001b[37m\u001b[0m \u001b[1m4s\u001b[0m 2ms/step - accuracy: 0.8097 - loss: 0.6135 - val_accuracy: 0.8000 - val_loss: 0.6935\n",
            "Epoch 40/50\n",
            "\u001b[1m1440/1440\u001b[0m \u001b[32m━━━━━━━━━━━━━━━━━━━━\u001b[0m\u001b[37m\u001b[0m \u001b[1m3s\u001b[0m 2ms/step - accuracy: 0.8069 - loss: 0.6218 - val_accuracy: 0.7975 - val_loss: 0.6823\n",
            "Epoch 41/50\n",
            "\u001b[1m1440/1440\u001b[0m \u001b[32m━━━━━━━━━━━━━━━━━━━━\u001b[0m\u001b[37m\u001b[0m \u001b[1m6s\u001b[0m 3ms/step - accuracy: 0.8148 - loss: 0.6138 - val_accuracy: 0.8000 - val_loss: 0.6859\n",
            "Epoch 42/50\n",
            "\u001b[1m1440/1440\u001b[0m \u001b[32m━━━━━━━━━━━━━━━━━━━━\u001b[0m\u001b[37m\u001b[0m \u001b[1m4s\u001b[0m 2ms/step - accuracy: 0.8040 - loss: 0.6285 - val_accuracy: 0.7969 - val_loss: 0.6804\n",
            "Epoch 43/50\n",
            "\u001b[1m1440/1440\u001b[0m \u001b[32m━━━━━━━━━━━━━━━━━━━━\u001b[0m\u001b[37m\u001b[0m \u001b[1m2s\u001b[0m 2ms/step - accuracy: 0.8117 - loss: 0.6060 - val_accuracy: 0.7950 - val_loss: 0.6866\n",
            "Epoch 44/50\n",
            "\u001b[1m1440/1440\u001b[0m \u001b[32m━━━━━━━━━━━━━━━━━━━━\u001b[0m\u001b[37m\u001b[0m \u001b[1m3s\u001b[0m 2ms/step - accuracy: 0.8004 - loss: 0.6345 - val_accuracy: 0.7987 - val_loss: 0.6841\n",
            "Epoch 45/50\n",
            "\u001b[1m1440/1440\u001b[0m \u001b[32m━━━━━━━━━━━━━━━━━━━━\u001b[0m\u001b[37m\u001b[0m \u001b[1m4s\u001b[0m 3ms/step - accuracy: 0.8091 - loss: 0.6103 - val_accuracy: 0.8081 - val_loss: 0.6745\n",
            "Epoch 46/50\n",
            "\u001b[1m1440/1440\u001b[0m \u001b[32m━━━━━━━━━━━━━━━━━━━━\u001b[0m\u001b[37m\u001b[0m \u001b[1m4s\u001b[0m 2ms/step - accuracy: 0.8137 - loss: 0.6023 - val_accuracy: 0.8044 - val_loss: 0.6721\n",
            "Epoch 47/50\n",
            "\u001b[1m1440/1440\u001b[0m \u001b[32m━━━━━━━━━━━━━━━━━━━━\u001b[0m\u001b[37m\u001b[0m \u001b[1m2s\u001b[0m 2ms/step - accuracy: 0.8191 - loss: 0.5812 - val_accuracy: 0.8019 - val_loss: 0.6693\n",
            "Epoch 48/50\n",
            "\u001b[1m1440/1440\u001b[0m \u001b[32m━━━━━━━━━━━━━━━━━━━━\u001b[0m\u001b[37m\u001b[0m \u001b[1m3s\u001b[0m 2ms/step - accuracy: 0.8142 - loss: 0.5983 - val_accuracy: 0.8087 - val_loss: 0.6673\n",
            "Epoch 49/50\n",
            "\u001b[1m1440/1440\u001b[0m \u001b[32m━━━━━━━━━━━━━━━━━━━━\u001b[0m\u001b[37m\u001b[0m \u001b[1m3s\u001b[0m 2ms/step - accuracy: 0.8220 - loss: 0.5838 - val_accuracy: 0.8044 - val_loss: 0.6686\n",
            "Epoch 50/50\n",
            "\u001b[1m1440/1440\u001b[0m \u001b[32m━━━━━━━━━━━━━━━━━━━━\u001b[0m\u001b[37m\u001b[0m \u001b[1m4s\u001b[0m 2ms/step - accuracy: 0.8161 - loss: 0.5970 - val_accuracy: 0.8094 - val_loss: 0.6669\n"
          ]
        }
      ]
    },
    {
      "cell_type": "code",
      "source": [
        "# evaluate the model\n",
        "# Evaluate the model on the train set\n",
        "loss, accuracy = model.evaluate(X_train, y_train)\n",
        "print(f'train Accuracy: {accuracy * 100:.2f}%')"
      ],
      "metadata": {
        "colab": {
          "base_uri": "https://localhost:8080/"
        },
        "id": "7t3TUHLfK7Sk",
        "outputId": "a8daad6b-e8cf-47c8-ff67-f1f656551884"
      },
      "execution_count": null,
      "outputs": [
        {
          "output_type": "stream",
          "name": "stdout",
          "text": [
            "\u001b[1m500/500\u001b[0m \u001b[32m━━━━━━━━━━━━━━━━━━━━\u001b[0m\u001b[37m\u001b[0m \u001b[1m1s\u001b[0m 1ms/step - accuracy: 0.8270 - loss: 0.5757\n",
            "train Accuracy: 82.07%\n"
          ]
        }
      ]
    },
    {
      "cell_type": "code",
      "source": [
        "# Make predictions on the train set\n",
        "yhat_train = model.predict(X_train)\n",
        "y_pred_classes = yhat_train.argmax(axis=-1)"
      ],
      "metadata": {
        "colab": {
          "base_uri": "https://localhost:8080/"
        },
        "id": "-pyGP4bNLDHg",
        "outputId": "ee91b362-3e82-4fa1-f42a-8f764bb2f5c2"
      },
      "execution_count": null,
      "outputs": [
        {
          "output_type": "stream",
          "name": "stdout",
          "text": [
            "\u001b[1m500/500\u001b[0m \u001b[32m━━━━━━━━━━━━━━━━━━━━\u001b[0m\u001b[37m\u001b[0m \u001b[1m1s\u001b[0m 1ms/step\n"
          ]
        }
      ]
    },
    {
      "cell_type": "code",
      "source": [
        "from sklearn.metrics import confusion_matrix, classification_report\n",
        "print(confusion_matrix(y_train, y_pred_classes ))\n",
        "print(classification_report(y_train, y_pred_classes ))"
      ],
      "metadata": {
        "colab": {
          "base_uri": "https://localhost:8080/"
        },
        "id": "tVQObVjmLGuy",
        "outputId": "e941b220-8dcb-4138-d1d5-c27e39e8fb2d"
      },
      "execution_count": null,
      "outputs": [
        {
          "output_type": "stream",
          "name": "stdout",
          "text": [
            "[[571   0   1   0   0   0   9   1   1   3   4   2   7   0   0   5   4  13\n",
            "    3   0   1   2   1   0   4   1]\n",
            " [  0 482   0  28   3   7   2   0   0   0   1   0   0   0   4   4   2  28\n",
            "   18   6   0  11   1   4  18   0]\n",
            " [  7   0 485   0  29   1  44   3   0   0   3   0   0   0  11   0   6   0\n",
            "    2   7   8   0   0   4   0   0]\n",
            " [  0  75   0 496   0   2   0   9   0   6   0   0   3   6   7   4   4  26\n",
            "    1   0   0   0   0   3   2   4]\n",
            " [  1   0   1   7 449   4  24   0   6   0   7   3   2   0   0   0  16   1\n",
            "   22  25   0   2   0  19   1  16]\n",
            " [  0  37   3   9   1 497   1   0   5   3   2   0   0   1   4  14   0   0\n",
            "    6  12   0   2   3   2  15   1]\n",
            " [  1  19  17   0   3   2 417   4   0   2   3   0   2   0  14   3  58   9\n",
            "   21   2   2  25   0   2   8   0]\n",
            " [  3  11   0  24   4   6   9 388   0   2  19   0   1   5  18   0   6  62\n",
            "    4   0  17   4   0   0   0   0]\n",
            " [  0   4   0   1   1   7   0   0 532  13   0   2   0   0   0   5   1   0\n",
            "   30   0   0   0   0   4   1   8]\n",
            " [  4   6   0   5   2   2   0   1  23 489   1   2   0   1   4   0   2  12\n",
            "   25   1   0   0   0   2   0   8]\n",
            " [ 18   2   4   2  15   0   3  14   0   2 389   6   1   0   1   0   3  47\n",
            "    8   0   5   1   0  53   1   4]\n",
            " [ 10   1   3   1  11   0   7   1   2   3   6 524   1   0   6   0  12   1\n",
            "   17   0   0   0   0   1   0   3]\n",
            " [  2   1   0   0   0   0   0   3   0   0   0   0 588  20   6   0   0   7\n",
            "    0   0   2   2   4   0   0   0]\n",
            " [  3   7   0  12   0   1   0  16   0   0   7   0  14 501   5   3   0  18\n",
            "    0   0   5   3  12   0   0   0]\n",
            " [  1   2   3  11   0   0   3   6   0   0   0   0   5   5 479   5  18  25\n",
            "    0   0  10   1   9   0   3   0]\n",
            " [  0  11   0   4   0  35  11   0   0   0   0   0   0   0   8 564   4   0\n",
            "    0   1   0   0   0   0  10   0]\n",
            " [  5   8   1   1   1   0  21   2   0   0   4   4   1   2  22   0 515   4\n",
            "    1   1   0   0   1   3  11   8]\n",
            " [ 21  21   0  30   0   2   4   4   0   0   4   0   5   7  23   0   2 478\n",
            "    3   0   0   3   0   8   0   0]\n",
            " [  1  31   1   1  16  16   2   0   6   7   0   1   0   0   0   0   1   3\n",
            "  482  21   0   0   0   5   1  16]\n",
            " [  0   1   1   3  28   3   5   9   2   0   4   0   0   0   1   3   2   0\n",
            "   15 551   2   1   0   2   7   4]\n",
            " [  2   2   7   1   0   0   0  23   0   0   1   0   6   6  21   1   6   1\n",
            "    0   2 562   1   7   0   2   0]\n",
            " [  0   8   0   0   1   4   0   0   0   0   0   0   0   0   3   4   0   2\n",
            "    0   1   4 552  21   0  14   0]\n",
            " [  0   0   0   0   0   0   0   3   0   0   0   0   5   3   1   3   1   3\n",
            "    0   1   6   7 550   0   4   0]\n",
            " [  0   3   0   4  17   4  13   1  11   8   6   4   0   0   0   0   6  10\n",
            "    5   7   0   0   0 520   1   5]\n",
            " [  0   7   0   0   5   2   1   0   0   0   0   0   0   0   0  15   8   0\n",
            "    1  15   3  15   2   2 566   0]\n",
            " [  2   0   0   0  14   0   0   0   1   6   0   1   0   0   0   0   8   8\n",
            "   51   4   0   0   0   1   0 504]]\n",
            "              precision    recall  f1-score   support\n",
            "\n",
            "           0       0.88      0.90      0.89       633\n",
            "           1       0.65      0.78      0.71       619\n",
            "           2       0.92      0.80      0.85       610\n",
            "           3       0.78      0.77      0.77       648\n",
            "           4       0.75      0.74      0.74       606\n",
            "           5       0.84      0.80      0.82       618\n",
            "           6       0.72      0.68      0.70       614\n",
            "           7       0.80      0.67      0.72       583\n",
            "           8       0.90      0.87      0.89       609\n",
            "           9       0.90      0.83      0.86       590\n",
            "          10       0.84      0.67      0.75       579\n",
            "          11       0.95      0.86      0.90       610\n",
            "          12       0.92      0.93      0.92       635\n",
            "          13       0.90      0.83      0.86       607\n",
            "          14       0.75      0.82      0.78       586\n",
            "          15       0.89      0.87      0.88       648\n",
            "          16       0.75      0.84      0.79       616\n",
            "          17       0.63      0.78      0.70       615\n",
            "          18       0.67      0.79      0.73       611\n",
            "          19       0.84      0.86      0.85       644\n",
            "          20       0.90      0.86      0.88       651\n",
            "          21       0.87      0.90      0.89       614\n",
            "          22       0.90      0.94      0.92       587\n",
            "          23       0.82      0.83      0.83       625\n",
            "          24       0.85      0.88      0.86       642\n",
            "          25       0.87      0.84      0.85       600\n",
            "\n",
            "    accuracy                           0.82     16000\n",
            "   macro avg       0.83      0.82      0.82     16000\n",
            "weighted avg       0.83      0.82      0.82     16000\n",
            "\n"
          ]
        }
      ]
    },
    {
      "cell_type": "code",
      "source": [
        "# Make predictions on the test set\n",
        "yhat_test = model.predict(X_test)\n",
        "y_pred_classes1 = yhat_test.argmax(axis=-1)"
      ],
      "metadata": {
        "colab": {
          "base_uri": "https://localhost:8080/"
        },
        "id": "zGuFhY0CLK7_",
        "outputId": "953c02a8-4e25-4577-a48d-5a19b2965d8c"
      },
      "execution_count": null,
      "outputs": [
        {
          "output_type": "stream",
          "name": "stdout",
          "text": [
            "\u001b[1m125/125\u001b[0m \u001b[32m━━━━━━━━━━━━━━━━━━━━\u001b[0m\u001b[37m\u001b[0m \u001b[1m0s\u001b[0m 1ms/step\n"
          ]
        }
      ]
    },
    {
      "cell_type": "code",
      "source": [
        "from sklearn.metrics import confusion_matrix, classification_report\n",
        "print(confusion_matrix(y_test, y_pred_classes1 ))\n",
        "print(classification_report(y_test, y_pred_classes1 ))"
      ],
      "metadata": {
        "colab": {
          "base_uri": "https://localhost:8080/"
        },
        "id": "kRJTXb0yLRGL",
        "outputId": "3a85d3e0-3472-49eb-b11d-baf38f79766c"
      },
      "execution_count": null,
      "outputs": [
        {
          "output_type": "stream",
          "name": "stdout",
          "text": [
            "[[145   0   0   0   0   0   2   0   0   0   2   0   0   0   0   0   2   1\n",
            "    1   0   0   1   0   0   2   0]\n",
            " [  0 109   0   8   1   1   0   0   0   0   1   0   1   0   2   1   0   8\n",
            "    4   2   0   4   1   0   4   0]\n",
            " [  1   0 100   0   5   2   4   1   1   0   1   0   0   0   7   0   0   0\n",
            "    0   0   2   0   0   0   2   0]\n",
            " [  0  24   0 111   0   0   0   4   0   4   0   0   1   3   1   1   1   5\n",
            "    0   0   0   0   0   2   0   0]\n",
            " [  0   0   0   1 123   3   5   0   2   1   4   0   1   0   1   0   5   4\n",
            "    3   2   0   0   0   2   0   5]\n",
            " [  1  12   0   5   0 124   0   0   1   0   0   0   1   0   0   3   0   0\n",
            "    3   3   0   0   0   1   3   0]\n",
            " [  1   3   2   1   1   0 111   1   0   1   0   0   0   0   1   1  14   3\n",
            "    9   1   0   5   1   0   3   0]\n",
            " [  2   2   0   6   1   1   0  95   0   0   2   0   1   4  13   0   3  16\n",
            "    2   0   2   1   0   0   0   0]\n",
            " [  0   1   0   1   1   2   0   0 130   0   0   0   0   0   0   1   0   0\n",
            "    7   1   0   0   0   2   0   0]\n",
            " [  1   2   0   2   0   1   2   0  10 129   0   0   1   0   1   0   0   1\n",
            "    6   0   0   0   0   0   0   1]\n",
            " [ 10   0   1   1   3   0   1   6   0   0 107   2   0   1   0   0   0   6\n",
            "    0   0   5   0   0  17   0   0]\n",
            " [  4   0   1   0   3   0   1   0   1   1   2 128   0   0   4   0   3   0\n",
            "    3   0   0   0   0   0   0   0]\n",
            " [  0   0   0   0   0   0   0   1   0   0   2   0 143   6   1   1   0   1\n",
            "    0   0   0   1   1   0   0   0]\n",
            " [  0   1   0   9   0   1   0   9   0   0   2   0   4 139   2   1   0   3\n",
            "    0   0   1   0   4   0   0   0]\n",
            " [  0   1   1   2   0   0   5   7   0   0   0   0   4   2 129   1   3   6\n",
            "    0   0   2   0   3   0   1   0]\n",
            " [  0   2   0   1   0   9   3   0   1   0   0   0   0   0   3 133   1   0\n",
            "    1   0   0   0   0   0   1   0]\n",
            " [  5   4   0   0   1   0   8   1   0   0   1   0   0   0   3   0 137   2\n",
            "    1   0   0   0   0   0   3   1]\n",
            " [  7   5   0   3   1   0   1   2   0   0   1   0   0   4   3   0   0 114\n",
            "    0   0   0   0   0   2   0   0]\n",
            " [  0   2   0   0   3   4   0   0   0   1   0   0   0   0   0   0   1   5\n",
            "  113   6   0   0   0   1   0   1]\n",
            " [  0   0   0   1   6   3   0   3   1   0   0   0   0   0   0   0   2   1\n",
            "    1 132   0   1   0   0   1   0]\n",
            " [  0   0   0   0   1   0   3   6   0   0   0   0   2   0   6   1   2   0\n",
            "    0   1 138   0   1   0   1   0]\n",
            " [  0   1   0   0   0   1   0   0   0   0   0   0   1   0   0   3   0   1\n",
            "    0   1   0 122  10   0  10   0]\n",
            " [  0   0   0   0   0   0   0   1   0   0   0   0   3   0   0   1   1   1\n",
            "    0   0   1   1 155   0   1   0]\n",
            " [  0   0   0   2   6   2   2   0   2   1   0   2   0   0   0   0   2   5\n",
            "    3   0   0   0   0 131   1   3]\n",
            " [  0   1   0   0   1   1   0   0   0   0   0   0   0   0   0   2   3   0\n",
            "    0   7   0   1   0   1 127   0]\n",
            " [  0   0   0   0   5   0   0   0   0   2   0   0   0   0   0   0   0   1\n",
            "   11   2   0   0   0   0   0 113]]\n",
            "              precision    recall  f1-score   support\n",
            "\n",
            "           0       0.82      0.93      0.87       156\n",
            "           1       0.64      0.74      0.69       147\n",
            "           2       0.95      0.79      0.87       126\n",
            "           3       0.72      0.71      0.71       157\n",
            "           4       0.76      0.76      0.76       162\n",
            "           5       0.80      0.79      0.79       157\n",
            "           6       0.75      0.70      0.72       159\n",
            "           7       0.69      0.63      0.66       151\n",
            "           8       0.87      0.89      0.88       146\n",
            "           9       0.92      0.82      0.87       157\n",
            "          10       0.86      0.67      0.75       160\n",
            "          11       0.97      0.85      0.90       151\n",
            "          12       0.88      0.91      0.89       157\n",
            "          13       0.87      0.79      0.83       176\n",
            "          14       0.73      0.77      0.75       167\n",
            "          15       0.89      0.86      0.87       155\n",
            "          16       0.76      0.82      0.79       167\n",
            "          17       0.62      0.80      0.70       143\n",
            "          18       0.67      0.82      0.74       137\n",
            "          19       0.84      0.87      0.85       152\n",
            "          20       0.91      0.85      0.88       162\n",
            "          21       0.89      0.81      0.85       150\n",
            "          22       0.88      0.94      0.91       165\n",
            "          23       0.82      0.81      0.82       162\n",
            "          24       0.79      0.88      0.84       144\n",
            "          25       0.91      0.84      0.88       134\n",
            "\n",
            "    accuracy                           0.81      4000\n",
            "   macro avg       0.82      0.81      0.81      4000\n",
            "weighted avg       0.82      0.81      0.81      4000\n",
            "\n"
          ]
        }
      ]
    },
    {
      "cell_type": "markdown",
      "source": [
        "the model performs consistently well with an overall accuracy of aroud 80% on both the training and test sets."
      ],
      "metadata": {
        "id": "U-sd0ZZkMDAH"
      }
    },
    {
      "cell_type": "markdown",
      "source": [
        "# Hyperparameter tuning"
      ],
      "metadata": {
        "id": "XF1JT6FWMpsA"
      }
    },
    {
      "cell_type": "code",
      "source": [
        "def create_model(hidden_layers=1, units=15, activation='relu', learning_rate=0.001):  # Model Creation Function\n",
        "    model = Sequential()\n",
        "    model.add(Dense(units=units, activation=activation, input_dim=X_train.shape[1]))\n",
        "\n",
        "    for _ in range(hidden_layers - 1):\n",
        "        model.add(Dense(units=units, activation=activation))\n",
        "\n",
        "    model.add(Dense(units=len(np.unique(y)), activation='softmax'))\n",
        "\n",
        "    optimizer = tf.keras.optimizers.Adam(learning_rate=learning_rate)\n",
        "    model.compile(optimizer=optimizer, loss='sparse_categorical_crossentropy', metrics=['accuracy'])\n",
        "    return model"
      ],
      "metadata": {
        "id": "z30nPBRjMudj"
      },
      "execution_count": null,
      "outputs": []
    },
    {
      "cell_type": "code",
      "source": [
        "def evaluate_model(hidden_layers, units, activation, learning_rate):        #Model Evaluation Function\n",
        "    model = create_model(hidden_layers=hidden_layers, units=units, activation=activation, learning_rate=learning_rate)\n",
        "    model.fit(X_train, y_train, epochs=10, batch_size=10, verbose=0)\n",
        "    _, accuracy = model.evaluate(X_test, y_test, verbose=0)\n",
        "    return accuracy"
      ],
      "metadata": {
        "id": "musSdxY5M1wb"
      },
      "execution_count": null,
      "outputs": []
    },
    {
      "cell_type": "code",
      "source": [
        "#Perform Hyperparameter Tuning\n",
        "param_grid = {\n",
        "    'hidden_layers': [1, 2, 3],\n",
        "    'units': [8, 16, 32],\n",
        "    'activation': ['relu', 'tanh'],\n",
        "    'learning_rate': [0.001, 0.01]\n",
        "}\n",
        "\n",
        "best_score = 0\n",
        "best_params = {}\n",
        "\n",
        "for params in ParameterGrid(param_grid):\n",
        "    score = evaluate_model(**params)\n",
        "    print(f\"Params: {params} - Score: {score}\")\n",
        "    if score > best_score:\n",
        "        best_score = score\n",
        "        best_params = params\n",
        "\n",
        "print(f\"Best Score: {best_score}\")\n",
        "print(f\"Best Params: {best_params}\")"
      ],
      "metadata": {
        "colab": {
          "base_uri": "https://localhost:8080/"
        },
        "id": "b8stF2V_M-o4",
        "outputId": "b2c851f5-d16a-41e7-ada4-55c89b9a0624"
      },
      "execution_count": null,
      "outputs": [
        {
          "output_type": "stream",
          "name": "stderr",
          "text": [
            "/usr/local/lib/python3.10/dist-packages/keras/src/layers/core/dense.py:87: UserWarning: Do not pass an `input_shape`/`input_dim` argument to a layer. When using Sequential models, prefer using an `Input(shape)` object as the first layer in the model instead.\n",
            "  super().__init__(activity_regularizer=activity_regularizer, **kwargs)\n"
          ]
        },
        {
          "output_type": "stream",
          "name": "stdout",
          "text": [
            "Params: {'activation': 'relu', 'hidden_layers': 1, 'learning_rate': 0.001, 'units': 8} - Score: 0.7182499766349792\n",
            "Params: {'activation': 'relu', 'hidden_layers': 1, 'learning_rate': 0.001, 'units': 16} - Score: 0.7737500071525574\n",
            "Params: {'activation': 'relu', 'hidden_layers': 1, 'learning_rate': 0.001, 'units': 32} - Score: 0.8399999737739563\n",
            "Params: {'activation': 'relu', 'hidden_layers': 1, 'learning_rate': 0.01, 'units': 8} - Score: 0.7245000004768372\n",
            "Params: {'activation': 'relu', 'hidden_layers': 1, 'learning_rate': 0.01, 'units': 16} - Score: 0.793749988079071\n",
            "Params: {'activation': 'relu', 'hidden_layers': 1, 'learning_rate': 0.01, 'units': 32} - Score: 0.8579999804496765\n",
            "Params: {'activation': 'relu', 'hidden_layers': 2, 'learning_rate': 0.001, 'units': 8} - Score: 0.703249990940094\n",
            "Params: {'activation': 'relu', 'hidden_layers': 2, 'learning_rate': 0.001, 'units': 16} - Score: 0.796750009059906\n",
            "Params: {'activation': 'relu', 'hidden_layers': 2, 'learning_rate': 0.001, 'units': 32} - Score: 0.8797500133514404\n",
            "Params: {'activation': 'relu', 'hidden_layers': 2, 'learning_rate': 0.01, 'units': 8} - Score: 0.703249990940094\n",
            "Params: {'activation': 'relu', 'hidden_layers': 2, 'learning_rate': 0.01, 'units': 16} - Score: 0.8044999837875366\n",
            "Params: {'activation': 'relu', 'hidden_layers': 2, 'learning_rate': 0.01, 'units': 32} - Score: 0.8790000081062317\n",
            "Params: {'activation': 'relu', 'hidden_layers': 3, 'learning_rate': 0.001, 'units': 8} - Score: 0.6940000057220459\n",
            "Params: {'activation': 'relu', 'hidden_layers': 3, 'learning_rate': 0.001, 'units': 16} - Score: 0.7987499833106995\n",
            "Params: {'activation': 'relu', 'hidden_layers': 3, 'learning_rate': 0.001, 'units': 32} - Score: 0.890749990940094\n",
            "Params: {'activation': 'relu', 'hidden_layers': 3, 'learning_rate': 0.01, 'units': 8} - Score: 0.6859999895095825\n",
            "Params: {'activation': 'relu', 'hidden_layers': 3, 'learning_rate': 0.01, 'units': 16} - Score: 0.7577499747276306\n",
            "Params: {'activation': 'relu', 'hidden_layers': 3, 'learning_rate': 0.01, 'units': 32} - Score: 0.8302500247955322\n",
            "Params: {'activation': 'tanh', 'hidden_layers': 1, 'learning_rate': 0.001, 'units': 8} - Score: 0.6610000133514404\n",
            "Params: {'activation': 'tanh', 'hidden_layers': 1, 'learning_rate': 0.001, 'units': 16} - Score: 0.7760000228881836\n",
            "Params: {'activation': 'tanh', 'hidden_layers': 1, 'learning_rate': 0.001, 'units': 32} - Score: 0.8324999809265137\n",
            "Params: {'activation': 'tanh', 'hidden_layers': 1, 'learning_rate': 0.01, 'units': 8} - Score: 0.6949999928474426\n",
            "Params: {'activation': 'tanh', 'hidden_layers': 1, 'learning_rate': 0.01, 'units': 16} - Score: 0.7839999794960022\n",
            "Params: {'activation': 'tanh', 'hidden_layers': 1, 'learning_rate': 0.01, 'units': 32} - Score: 0.8617500066757202\n",
            "Params: {'activation': 'tanh', 'hidden_layers': 2, 'learning_rate': 0.001, 'units': 8} - Score: 0.6817499995231628\n",
            "Params: {'activation': 'tanh', 'hidden_layers': 2, 'learning_rate': 0.001, 'units': 16} - Score: 0.7925000190734863\n",
            "Params: {'activation': 'tanh', 'hidden_layers': 2, 'learning_rate': 0.001, 'units': 32} - Score: 0.8627499938011169\n",
            "Params: {'activation': 'tanh', 'hidden_layers': 2, 'learning_rate': 0.01, 'units': 8} - Score: 0.7139999866485596\n",
            "Params: {'activation': 'tanh', 'hidden_layers': 2, 'learning_rate': 0.01, 'units': 16} - Score: 0.8032500147819519\n",
            "Params: {'activation': 'tanh', 'hidden_layers': 2, 'learning_rate': 0.01, 'units': 32} - Score: 0.8542500138282776\n",
            "Params: {'activation': 'tanh', 'hidden_layers': 3, 'learning_rate': 0.001, 'units': 8} - Score: 0.6470000147819519\n",
            "Params: {'activation': 'tanh', 'hidden_layers': 3, 'learning_rate': 0.001, 'units': 16} - Score: 0.7992500066757202\n",
            "Params: {'activation': 'tanh', 'hidden_layers': 3, 'learning_rate': 0.001, 'units': 32} - Score: 0.8917499780654907\n",
            "Params: {'activation': 'tanh', 'hidden_layers': 3, 'learning_rate': 0.01, 'units': 8} - Score: 0.6995000243186951\n",
            "Params: {'activation': 'tanh', 'hidden_layers': 3, 'learning_rate': 0.01, 'units': 16} - Score: 0.7925000190734863\n",
            "Params: {'activation': 'tanh', 'hidden_layers': 3, 'learning_rate': 0.01, 'units': 32} - Score: 0.8067499995231628\n",
            "Best Score: 0.8917499780654907\n",
            "Best Params: {'activation': 'tanh', 'hidden_layers': 3, 'learning_rate': 0.001, 'units': 32}\n"
          ]
        }
      ]
    },
    {
      "cell_type": "code",
      "source": [
        "# Best parameters from the tuning process\n",
        "best_hidden_layers = best_params['hidden_layers']\n",
        "best_units = best_params['units']\n",
        "best_activation = best_params['activation']\n",
        "best_learning_rate = best_params['learning_rate']"
      ],
      "metadata": {
        "id": "iMiRtH-hN4TH"
      },
      "execution_count": null,
      "outputs": []
    },
    {
      "cell_type": "code",
      "source": [
        "# Create the final model with the best parameters\n",
        "final_model = create_model(\n",
        "    hidden_layers=best_hidden_layers,\n",
        "    units=best_units,\n",
        "    activation=best_activation,\n",
        "    learning_rate=best_learning_rate\n",
        ")"
      ],
      "metadata": {
        "id": "hQLDZ_OjN81n"
      },
      "execution_count": null,
      "outputs": []
    },
    {
      "cell_type": "code",
      "source": [
        "# Train the final model on the full training data\n",
        "final_model.fit(X_train, y_train, epochs=10, batch_size=10, verbose=1)"
      ],
      "metadata": {
        "colab": {
          "base_uri": "https://localhost:8080/"
        },
        "id": "k5BS1bNkOBft",
        "outputId": "3b2e3adb-e4cc-40dc-eced-86c119f7b21b"
      },
      "execution_count": null,
      "outputs": [
        {
          "output_type": "stream",
          "name": "stdout",
          "text": [
            "Epoch 1/10\n",
            "\u001b[1m1600/1600\u001b[0m \u001b[32m━━━━━━━━━━━━━━━━━━━━\u001b[0m\u001b[37m\u001b[0m \u001b[1m4s\u001b[0m 2ms/step - accuracy: 0.4485 - loss: 2.1038\n",
            "Epoch 2/10\n",
            "\u001b[1m1600/1600\u001b[0m \u001b[32m━━━━━━━━━━━━━━━━━━━━\u001b[0m\u001b[37m\u001b[0m \u001b[1m6s\u001b[0m 2ms/step - accuracy: 0.7431 - loss: 0.9545\n",
            "Epoch 3/10\n",
            "\u001b[1m1600/1600\u001b[0m \u001b[32m━━━━━━━━━━━━━━━━━━━━\u001b[0m\u001b[37m\u001b[0m \u001b[1m4s\u001b[0m 2ms/step - accuracy: 0.7913 - loss: 0.7392\n",
            "Epoch 4/10\n",
            "\u001b[1m1600/1600\u001b[0m \u001b[32m━━━━━━━━━━━━━━━━━━━━\u001b[0m\u001b[37m\u001b[0m \u001b[1m2s\u001b[0m 2ms/step - accuracy: 0.8177 - loss: 0.6340\n",
            "Epoch 5/10\n",
            "\u001b[1m1600/1600\u001b[0m \u001b[32m━━━━━━━━━━━━━━━━━━━━\u001b[0m\u001b[37m\u001b[0m \u001b[1m3s\u001b[0m 2ms/step - accuracy: 0.8468 - loss: 0.5354\n",
            "Epoch 6/10\n",
            "\u001b[1m1600/1600\u001b[0m \u001b[32m━━━━━━━━━━━━━━━━━━━━\u001b[0m\u001b[37m\u001b[0m \u001b[1m5s\u001b[0m 2ms/step - accuracy: 0.8649 - loss: 0.4818\n",
            "Epoch 7/10\n",
            "\u001b[1m1600/1600\u001b[0m \u001b[32m━━━━━━━━━━━━━━━━━━━━\u001b[0m\u001b[37m\u001b[0m \u001b[1m3s\u001b[0m 2ms/step - accuracy: 0.8724 - loss: 0.4312\n",
            "Epoch 8/10\n",
            "\u001b[1m1600/1600\u001b[0m \u001b[32m━━━━━━━━━━━━━━━━━━━━\u001b[0m\u001b[37m\u001b[0m \u001b[1m6s\u001b[0m 2ms/step - accuracy: 0.8814 - loss: 0.4025\n",
            "Epoch 9/10\n",
            "\u001b[1m1600/1600\u001b[0m \u001b[32m━━━━━━━━━━━━━━━━━━━━\u001b[0m\u001b[37m\u001b[0m \u001b[1m3s\u001b[0m 2ms/step - accuracy: 0.8935 - loss: 0.3629\n",
            "Epoch 10/10\n",
            "\u001b[1m1600/1600\u001b[0m \u001b[32m━━━━━━━━━━━━━━━━━━━━\u001b[0m\u001b[37m\u001b[0m \u001b[1m3s\u001b[0m 2ms/step - accuracy: 0.8934 - loss: 0.3458\n"
          ]
        },
        {
          "output_type": "execute_result",
          "data": {
            "text/plain": [
              "<keras.src.callbacks.history.History at 0x7c2b2c41d270>"
            ]
          },
          "metadata": {},
          "execution_count": 29
        }
      ]
    },
    {
      "cell_type": "code",
      "source": [
        "#Import necessary libraries\n",
        "import numpy as np\n",
        "from sklearn.model_selection import train_test_split\n",
        "from sklearn.metrics import confusion_matrix, classification_report"
      ],
      "metadata": {
        "id": "geGXaxgJ8Wcg"
      },
      "execution_count": null,
      "outputs": []
    },
    {
      "cell_type": "code",
      "source": [
        " #Make predictions on the train set\n",
        "yhat_train = final_model.predict(X_train)\n",
        "y_pred_classes = yhat_train.argmax(axis=-1)"
      ],
      "metadata": {
        "colab": {
          "base_uri": "https://localhost:8080/"
        },
        "id": "hELUTjrgOKI_",
        "outputId": "7ba857b5-ab7a-48b1-b0a8-bf0d8700f368"
      },
      "execution_count": null,
      "outputs": [
        {
          "output_type": "stream",
          "name": "stdout",
          "text": [
            "\u001b[1m500/500\u001b[0m \u001b[32m━━━━━━━━━━━━━━━━━━━━\u001b[0m\u001b[37m\u001b[0m \u001b[1m1s\u001b[0m 1ms/step\n"
          ]
        }
      ]
    },
    {
      "cell_type": "code",
      "source": [
        "# Make predictions on the test set\n",
        "yhat_test = final_model.predict(X_test)\n",
        "y_pred_classes1 = yhat_test.argmax(axis=-1)"
      ],
      "metadata": {
        "colab": {
          "base_uri": "https://localhost:8080/"
        },
        "id": "c7PwHv_wOShK",
        "outputId": "05a02c96-0b07-4219-ddf9-daf61c297d13"
      },
      "execution_count": null,
      "outputs": [
        {
          "output_type": "stream",
          "name": "stdout",
          "text": [
            "\u001b[1m125/125\u001b[0m \u001b[32m━━━━━━━━━━━━━━━━━━━━\u001b[0m\u001b[37m\u001b[0m \u001b[1m0s\u001b[0m 1ms/step\n"
          ]
        }
      ]
    },
    {
      "cell_type": "code",
      "source": [
        "from sklearn.metrics import confusion_matrix, classification_report\n",
        "print(confusion_matrix(y_test, y_pred_classes1 ))\n",
        "print(classification_report(y_test, y_pred_classes1 ))"
      ],
      "metadata": {
        "colab": {
          "base_uri": "https://localhost:8080/"
        },
        "id": "_UMBVumDOWWX",
        "outputId": "f8114b4f-565e-444d-e7b1-cae1797bf717"
      },
      "execution_count": null,
      "outputs": [
        {
          "output_type": "stream",
          "name": "stdout",
          "text": [
            "[[153   0   0   0   0   0   0   0   0   0   0   0   0   0   0   1   0   0\n",
            "    0   0   1   0   0   0   1   0]\n",
            " [  0 125   0   4   1   1   0   0   0   1   1   0   0   1   0   0   0   8\n",
            "    3   1   1   0   0   0   0   0]\n",
            " [  0   0 107   1   5   0   0   0   0   0   2   0   0   0   6   0   0   0\n",
            "    0   1   1   0   3   0   0   0]\n",
            " [  1  14   0 123   0   1   0   5   0   1   1   0   2   1   2   0   0   5\n",
            "    0   0   1   0   0   0   0   0]\n",
            " [  1   0   2   0 142   3   4   0   0   0   2   0   0   0   0   0   1   1\n",
            "    1   0   0   1   0   0   0   4]\n",
            " [  0   1   0   1   0 146   0   0   1   0   0   0   0   0   0   2   0   0\n",
            "    3   2   0   0   0   1   0   0]\n",
            " [  1   0   3   2   2   0 130   0   0   0   2   0   0   1   1   1   1   2\n",
            "    6   0   4   2   0   1   0   0]\n",
            " [  0   2   0   1   0   2   0 120   0   2   3   0   0   6   2   0   1   9\n",
            "    0   0   0   2   0   0   1   0]\n",
            " [  0   0   0   3   0   0   0   0 131   4   0   0   0   0   0   1   1   0\n",
            "    3   0   0   0   0   3   0   0]\n",
            " [  1   0   0   1   0   0   0   2   2 140   0   0   0   0   2   0   2   0\n",
            "    4   0   0   0   0   3   0   0]\n",
            " [  0   0   2   2   1   0   0   4   0   0 139   1   0   0   0   0   0   7\n",
            "    0   1   1   0   0   2   0   0]\n",
            " [  1   0   1   2   1   0   1   0   0   0   0 134   0   0   2   0   0   0\n",
            "    2   0   1   0   0   5   1   0]\n",
            " [  1   0   0   0   0   0   0   0   0   0   0   0 146   3   2   0   0   0\n",
            "    0   0   1   0   4   0   0   0]\n",
            " [  0   3   0   5   0   0   0   3   0   0   0   0   0 161   3   0   0   1\n",
            "    0   0   0   0   0   0   0   0]\n",
            " [  0   0   1   1   0   0   1   1   0   0   1   0   1   0 146   1   4   2\n",
            "    0   1   0   0   7   0   0   0]\n",
            " [  0   1   0   0   0   7   1   0   1   0   0   0   0   0   1 141   1   2\n",
            "    0   0   0   0   0   0   0   0]\n",
            " [  3   1   0   0   1   0   2   0   0   0   0   1   0   0   3   1 154   0\n",
            "    1   0   0   0   0   0   0   0]\n",
            " [  0   2   0   5   0   0   0   2   0   0   4   0   0   2   3   1   1 122\n",
            "    0   0   1   0   0   0   0   0]\n",
            " [  0   4   0   0   3   0   2   0   0   0   0   1   0   0   0   0   0   1\n",
            "  122   1   0   0   0   0   2   1]\n",
            " [  0   1   0   1   2   9   0   0   0   0   0   0   0   0   0   0   0   1\n",
            "    2 126   2   1   0   0   7   0]\n",
            " [  0   0   2   0   0   0   4   0   0   0   0   0   1   1   0   1   0   0\n",
            "    0   2 149   1   1   0   0   0]\n",
            " [  0   3   0   0   0   1   1   0   0   0   0   0   0   1   3   2   0   1\n",
            "    0   0   0 134   3   0   1   0]\n",
            " [  0   0   0   0   0   0   0   0   0   0   0   0  10   3   1   0   0   1\n",
            "    0   0   3   1 146   0   0   0]\n",
            " [  0   0   1   0   1   0   0   0   2   0   6   0   0   0   1   0   0   0\n",
            "    0   0   0   0   0 150   1   0]\n",
            " [  0   0   0   0   0   0   0   0   0   0   0   0   0   0   0   1   0   0\n",
            "    0   1   0   0   0   0 142   0]\n",
            " [  0   0   0   0   4   0   0   0   1   2   0   0   0   0   0   0   1   1\n",
            "    4   1   0   0   0   0   0 120]]\n",
            "              precision    recall  f1-score   support\n",
            "\n",
            "           0       0.94      0.98      0.96       156\n",
            "           1       0.80      0.85      0.82       147\n",
            "           2       0.90      0.85      0.87       126\n",
            "           3       0.81      0.78      0.80       157\n",
            "           4       0.87      0.88      0.87       162\n",
            "           5       0.86      0.93      0.89       157\n",
            "           6       0.89      0.82      0.85       159\n",
            "           7       0.88      0.79      0.83       151\n",
            "           8       0.95      0.90      0.92       146\n",
            "           9       0.93      0.89      0.91       157\n",
            "          10       0.86      0.87      0.87       160\n",
            "          11       0.98      0.89      0.93       151\n",
            "          12       0.91      0.93      0.92       157\n",
            "          13       0.89      0.91      0.90       176\n",
            "          14       0.82      0.87      0.85       167\n",
            "          15       0.92      0.91      0.92       155\n",
            "          16       0.92      0.92      0.92       167\n",
            "          17       0.74      0.85      0.79       143\n",
            "          18       0.81      0.89      0.85       137\n",
            "          19       0.92      0.83      0.87       152\n",
            "          20       0.90      0.92      0.91       162\n",
            "          21       0.94      0.89      0.92       150\n",
            "          22       0.89      0.88      0.89       165\n",
            "          23       0.91      0.93      0.92       162\n",
            "          24       0.91      0.99      0.95       144\n",
            "          25       0.96      0.90      0.93       134\n",
            "\n",
            "    accuracy                           0.89      4000\n",
            "   macro avg       0.89      0.89      0.89      4000\n",
            "weighted avg       0.89      0.89      0.89      4000\n",
            "\n"
          ]
        }
      ]
    },
    {
      "cell_type": "markdown",
      "source": [
        "training set metrics precision,recall,and f1-score:\n",
        "the ,odel demonstrates high precision and recall across most classes,with some minor variations.\n",
        "for instance, class 1 has a precision of 0.82 and a recall of 0.93, leading to an f1-score of 0.87, which is lower compared to other classes but still acceptable.class 24 shows excellent performance with a precision of 0.97, recall of 0.91, and an f1-score of 0.94.\n",
        "testing set metrics\n",
        "precision,recall, and f1-score:\n",
        "the model maintains good precision and recall, though slightly lower than on the training set.\n",
        "for example, class 1 has a precision of 0.80 and a recall of 0.85, resulting in an f1-score of 0.82.\n"
      ],
      "metadata": {
        "id": "MAG0UgmrPIUP"
      }
    },
    {
      "cell_type": "markdown",
      "source": [
        "Tuned Model\n",
        "Training Accuracy: 91%\n",
        "Testing Accuracy: 89%\n",
        "Default Model\n",
        "Training Accuracy: 81.24%\n",
        "Testing Accuracy: 80%\n",
        "Overall Improvement: The tuned model outperforms the default model in both training and testing accuracy. The tuned model has higher precision, recall, and F1-scores across most classes.\n",
        "Consistency: The performance improvements are consistent across various metrics, indicating a well-tuned model."
      ],
      "metadata": {
        "id": "Kdojh65T7uew"
      }
    }
  ]
}